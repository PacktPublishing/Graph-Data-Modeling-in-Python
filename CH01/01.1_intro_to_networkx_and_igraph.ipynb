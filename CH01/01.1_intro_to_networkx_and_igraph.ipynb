{
 "cells": [
  {
   "cell_type": "markdown",
   "metadata": {},
   "source": [
    "# Introduction to NetworkX and igraph"
   ]
  },
  {
   "cell_type": "markdown",
   "metadata": {},
   "source": [
    "## Getting setup"
   ]
  },
  {
   "cell_type": "markdown",
   "metadata": {},
   "source": [
    "To get setup for this tutorial you will need to pip install the required packages into your environment:"
   ]
  },
  {
   "cell_type": "code",
   "execution_count": null,
   "metadata": {},
   "outputs": [],
   "source": [
    "! pip install networkx==2.8.8\n",
    "! pip install igraph==0.9.8\n",
    "! pip install matplotlib\n",
    "# Or from the requirements.txt file \n",
    "#! pip install -r requirements.txt"
   ]
  },
  {
   "cell_type": "markdown",
   "metadata": {},
   "source": [
    "## NetworkX basics"
   ]
  },
  {
   "cell_type": "code",
   "execution_count": null,
   "metadata": {},
   "outputs": [],
   "source": [
    "import networkx as nx\n",
    "print(f'Current version of NetworkX imported is {nx.__version__}')"
   ]
  },
  {
   "cell_type": "code",
   "execution_count": null,
   "metadata": {},
   "outputs": [],
   "source": [
    "g = nx.Graph()"
   ]
  },
  {
   "cell_type": "code",
   "execution_count": null,
   "metadata": {},
   "outputs": [],
   "source": [
    "g.add_node(\"Jeremy\")\n",
    "print(g.nodes)\n",
    "print(g)"
   ]
  },
  {
   "cell_type": "code",
   "execution_count": null,
   "metadata": {},
   "outputs": [],
   "source": [
    "g.add_nodes_from([\"Mark\", \"Jeremy\"])\n",
    "print(f'{g}. Current nodes in network: {g.nodes}')"
   ]
  },
  {
   "cell_type": "code",
   "execution_count": null,
   "metadata": {},
   "outputs": [],
   "source": [
    "g.add_nodes_from([(\n",
    "    \"Mark\", {\"followers\": 2100}), \n",
    "    (\"Jeremy\", {\"followers\": 130}\n",
    "    )])\n",
    "    \n",
    "print(g)"
   ]
  },
  {
   "cell_type": "code",
   "execution_count": null,
   "metadata": {},
   "outputs": [],
   "source": [
    "g.add_edge(\"Jeremy\", \"Mark\")\n",
    "print(g)\n",
    "print(g.edges)"
   ]
  },
  {
   "cell_type": "code",
   "execution_count": null,
   "metadata": {},
   "outputs": [],
   "source": [
    "import matplotlib.pyplot as plt\n",
    "nx.draw(g, with_labels=True)\n",
    "plt.show()"
   ]
  },
  {
   "cell_type": "markdown",
   "metadata": {},
   "source": [
    "# igraph basics"
   ]
  },
  {
   "cell_type": "code",
   "execution_count": null,
   "metadata": {},
   "outputs": [],
   "source": [
    "import igraph as ig\n",
    "print(f'Current version of igraph imported is: {ig.__version__}')"
   ]
  },
  {
   "cell_type": "code",
   "execution_count": null,
   "metadata": {},
   "outputs": [],
   "source": [
    "g = ig.Graph()"
   ]
  },
  {
   "cell_type": "code",
   "execution_count": null,
   "metadata": {},
   "outputs": [],
   "source": [
    "g.add_vertices(2)"
   ]
  },
  {
   "cell_type": "code",
   "execution_count": null,
   "metadata": {},
   "outputs": [],
   "source": [
    "g.vs[0][\"name\"] = \"Jeremy\"\n",
    "g.vs[1][\"name\"] = \"Mark\"\n",
    "g.vs[0][\"followers\"] = 130\n",
    "g.vs[1][\"followers\"] = 2100"
   ]
  },
  {
   "cell_type": "code",
   "execution_count": null,
   "metadata": {},
   "outputs": [],
   "source": [
    "g.vs[\"name\"] = [\"Jeremy\", \"Mark\"]\n",
    "g.vs[\"followers\"] = [130, 2100]"
   ]
  },
  {
   "cell_type": "code",
   "execution_count": null,
   "metadata": {},
   "outputs": [],
   "source": [
    "g.add_edges([(0, 1)])"
   ]
  },
  {
   "cell_type": "markdown",
   "metadata": {},
   "source": [
    "### Code for this tutorial"
   ]
  },
  {
   "cell_type": "code",
   "execution_count": 1,
   "metadata": {},
   "outputs": [
    {
     "name": "stdout",
     "output_type": "stream",
     "text": [
      "Writing intro_to_netx_and_igraph.py\n"
     ]
    }
   ],
   "source": [
    "%%writefile intro_to_netx_and_igraph.py\n",
    "\"\"\" \n",
    "Name:       intro_to_netx_and_igraph.py\n",
    "Author(s):  Gary Hutson & Matt Jackson on behalf of Packt publishing\n",
    "Date:       09/12/2022\n",
    "Usage:      python intro_to_netx_and_igraph.py\n",
    "\"\"\"\n",
    "# NetworkX basics\n",
    "import networkx as nx\n",
    "import igraph\n",
    "import matplotlib.pyplot as plt\n",
    "\n",
    "print(f'Current version of NetworkX imported is {nx.__version__}')\n",
    "\n",
    "# Create NetworkX empty graph object\n",
    "g = nx.Graph()\n",
    "\n",
    "# Add node of Jeremy to NetworkX graph\n",
    "g.add_node(\"Jeremy\")\n",
    "print(g.nodes)\n",
    "print(g)\n",
    "\n",
    "g.add_nodes_from([\"Mark\", \"Jeremy\"])\n",
    "print(f'{g}. Current nodes in network: {g.nodes}')\n",
    "\n",
    "g.add_nodes_from([(\n",
    "    \"Mark\", {\"followers\": 2100}), \n",
    "    (\"Jeremy\", {\"followers\": 130}\n",
    "    )])\n",
    "    \n",
    "print(g)\n",
    "\n",
    "g.add_edge(\"Jeremy\", \"Mark\")\n",
    "print(g)\n",
    "print(g.edges)\n",
    "\n",
    "# Plot the edges and node connections\n",
    "nx.draw(g, with_labels=True)\n",
    "plt.show()\n",
    "\n",
    "# Igraph basics\n",
    "import igraph as ig\n",
    "print(f'Current version of igraph imported is: {ig.__version__}')\n",
    "\n",
    "g = ig.Graph()\n",
    "g.add_vertices(2)\n",
    "\n",
    "# Add attributes\n",
    "g.vs[0][\"name\"] = \"Jeremy\"\n",
    "g.vs[1][\"name\"] = \"Mark\"\n",
    "g.vs[0][\"followers\"] = 130\n",
    "g.vs[1][\"followers\"] = 2100\n",
    "\n",
    "# Add followers to Mark and Jeremy in another way \n",
    "g.vs[\"name\"] = [\"Jeremy\", \"Mark\"]\n",
    "g.vs[\"followers\"] = [130, 2100]\n",
    "\n",
    "g.add_edges([(0, 1)])\n",
    "print(g)"
   ]
  }
 ],
 "metadata": {
  "kernelspec": {
   "display_name": "Python 3.8.15 ('graph-book')",
   "language": "python",
   "name": "python3"
  },
  "language_info": {
   "codemirror_mode": {
    "name": "ipython",
    "version": 3
   },
   "file_extension": ".py",
   "mimetype": "text/x-python",
   "name": "python",
   "nbconvert_exporter": "python",
   "pygments_lexer": "ipython3",
   "version": "3.8.15"
  },
  "orig_nbformat": 4,
  "vscode": {
   "interpreter": {
    "hash": "0e962125a6bade716827c7cd07d3b7c9b717838910a5075eb32d8b321480d4bb"
   }
  }
 },
 "nbformat": 4,
 "nbformat_minor": 2
}
