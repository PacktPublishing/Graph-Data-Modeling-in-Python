{
 "cells": [
  {
   "cell_type": "markdown",
   "metadata": {},
   "source": [
    "# Introduction to NetworkX and igraph"
   ]
  },
  {
   "cell_type": "markdown",
   "metadata": {},
   "source": [
    "NetworkX is a Python package for the creation, manipulation, study of the structure and dynamics of complex networks. Their website: https://networkx.org/ contains details of the major changes to the package, and the intended usage of the tool. \n",
    "\n",
    "Igraph is a collection of network analysis tools with the emphasis being on efficiency, portability and ease of use. What is great about igraph is that it is open source and free, plus it supports networks to be built in R, Python, Mathematica and C / C++. This is our recommended package for the creation of large networks that can load much more quickly than NetworkX. To read more about igraph: https://igraph.org/."
   ]
  },
  {
   "cell_type": "markdown",
   "metadata": {},
   "source": [
    "## Getting setup"
   ]
  },
  {
   "cell_type": "markdown",
   "metadata": {},
   "source": [
    "To get setup for this tutorial you will need to pip install the required packages into your environment:"
   ]
  },
  {
   "cell_type": "code",
   "execution_count": 7,
   "metadata": {},
   "outputs": [
    {
     "name": "stdout",
     "output_type": "stream",
     "text": [
      "Requirement already satisfied: wheel in /Users/Gary.Hutson/opt/anaconda3/envs/graph-book/lib/python3.8/site-packages (0.37.1)\n",
      "Collecting manimce\n",
      "  Using cached manimce-0.1.1.post2-py3-none-any.whl (249 kB)\n",
      "Collecting pycairo<2.0,>=1.19\n",
      "  Using cached pycairo-1.21.0.tar.gz (340 kB)\n",
      "  Installing build dependencies ... \u001b[?25ldone\n",
      "\u001b[?25h  Getting requirements to build wheel ... \u001b[?25ldone\n",
      "\u001b[?25h  Preparing metadata (pyproject.toml) ... \u001b[?25ldone\n",
      "\u001b[?25hCollecting tqdm\n",
      "  Using cached tqdm-4.64.1-py2.py3-none-any.whl (78 kB)\n",
      "Collecting colour\n",
      "  Using cached colour-0.1.5-py2.py3-none-any.whl (23 kB)\n",
      "Collecting pydub\n",
      "  Using cached pydub-0.25.1-py2.py3-none-any.whl (32 kB)\n",
      "Collecting progressbar\n",
      "  Using cached progressbar-2.5-py3-none-any.whl\n",
      "Collecting scipy\n",
      "  Using cached scipy-1.9.3-cp38-cp38-macosx_10_9_x86_64.whl (34.2 MB)\n",
      "Requirement already satisfied: numpy in /Users/Gary.Hutson/opt/anaconda3/envs/graph-book/lib/python3.8/site-packages (from manimce) (1.23.4)\n",
      "Requirement already satisfied: Pillow in /Users/Gary.Hutson/opt/anaconda3/envs/graph-book/lib/python3.8/site-packages (from manimce) (9.3.0)\n",
      "Collecting rich<7.0,>=6.0\n",
      "  Using cached rich-6.2.0-py3-none-any.whl (150 kB)\n",
      "Collecting pangocairocffi<0.5.0,>=0.4.0\n",
      "  Using cached pangocairocffi-0.4.0-py3-none-any.whl\n",
      "Requirement already satisfied: pygments in /Users/Gary.Hutson/opt/anaconda3/envs/graph-book/lib/python3.8/site-packages (from manimce) (2.11.2)\n",
      "Requirement already satisfied: cairocffi<2.0.0,>=1.1.0 in /Users/Gary.Hutson/opt/anaconda3/envs/graph-book/lib/python3.8/site-packages (from manimce) (1.4.0)\n",
      "Collecting pangocffi<0.9.0,>=0.8.0\n",
      "  Using cached pangocffi-0.8.0-py3-none-any.whl\n",
      "Requirement already satisfied: cffi>=1.1.0 in /Users/Gary.Hutson/opt/anaconda3/envs/graph-book/lib/python3.8/site-packages (from cairocffi<2.0.0,>=1.1.0->manimce) (1.15.1)\n",
      "Collecting colorama<0.5.0,>=0.4.0\n",
      "  Using cached colorama-0.4.6-py2.py3-none-any.whl (25 kB)\n",
      "Collecting typing-extensions<4.0.0,>=3.7.4\n",
      "  Using cached typing_extensions-3.10.0.2-py3-none-any.whl (26 kB)\n",
      "Collecting commonmark<0.10.0,>=0.9.0\n",
      "  Using cached commonmark-0.9.1-py2.py3-none-any.whl (51 kB)\n",
      "Requirement already satisfied: pycparser in /Users/Gary.Hutson/opt/anaconda3/envs/graph-book/lib/python3.8/site-packages (from cffi>=1.1.0->cairocffi<2.0.0,>=1.1.0->manimce) (2.21)\n",
      "Building wheels for collected packages: pycairo\n",
      "  Building wheel for pycairo (pyproject.toml) ... \u001b[?25lerror\n",
      "  \u001b[1;31merror\u001b[0m: \u001b[1msubprocess-exited-with-error\u001b[0m\n",
      "  \n",
      "  \u001b[31m×\u001b[0m \u001b[32mBuilding wheel for pycairo \u001b[0m\u001b[1;32m(\u001b[0m\u001b[32mpyproject.toml\u001b[0m\u001b[1;32m)\u001b[0m did not run successfully.\n",
      "  \u001b[31m│\u001b[0m exit code: \u001b[1;36m1\u001b[0m\n",
      "  \u001b[31m╰─>\u001b[0m \u001b[31m[16 lines of output]\u001b[0m\n",
      "  \u001b[31m   \u001b[0m running bdist_wheel\n",
      "  \u001b[31m   \u001b[0m running build\n",
      "  \u001b[31m   \u001b[0m running build_py\n",
      "  \u001b[31m   \u001b[0m creating build\n",
      "  \u001b[31m   \u001b[0m creating build/lib.macosx-10.9-x86_64-cpython-38\n",
      "  \u001b[31m   \u001b[0m creating build/lib.macosx-10.9-x86_64-cpython-38/cairo\n",
      "  \u001b[31m   \u001b[0m copying cairo/__init__.py -> build/lib.macosx-10.9-x86_64-cpython-38/cairo\n",
      "  \u001b[31m   \u001b[0m copying cairo/__init__.pyi -> build/lib.macosx-10.9-x86_64-cpython-38/cairo\n",
      "  \u001b[31m   \u001b[0m copying cairo/py.typed -> build/lib.macosx-10.9-x86_64-cpython-38/cairo\n",
      "  \u001b[31m   \u001b[0m running build_ext\n",
      "  \u001b[31m   \u001b[0m building 'cairo._cairo' extension\n",
      "  \u001b[31m   \u001b[0m creating build/temp.macosx-10.9-x86_64-cpython-38\n",
      "  \u001b[31m   \u001b[0m creating build/temp.macosx-10.9-x86_64-cpython-38/cairo\n",
      "  \u001b[31m   \u001b[0m gcc -Wno-unused-result -Wsign-compare -Wunreachable-code -DNDEBUG -g -fwrapv -O3 -Wall -Wstrict-prototypes -I/Users/Gary.Hutson/opt/anaconda3/envs/graph-book/include -arch x86_64 -I/Users/Gary.Hutson/opt/anaconda3/envs/graph-book/include -arch x86_64 -DPYCAIRO_VERSION_MAJOR=1 -DPYCAIRO_VERSION_MINOR=21 -DPYCAIRO_VERSION_MICRO=0 -I/usr/local/Cellar/libffi/3.4.2/include -I/usr/local/Cellar/cairo/1.16.0_5/include/cairo -I/usr/local/Cellar/glib/2.70.4/include -I/usr/local/Cellar/glib/2.70.4/include/glib-2.0 -I/usr/local/Cellar/glib/2.70.4/lib/glib-2.0/include -I/usr/local/opt/gettext/include -I/usr/local/Cellar/pcre/8.45/include -I/usr/local/Cellar/pixman/0.40.0/include/pixman-1 -I/usr/local/Cellar/fontconfig/2.13.1/include -I/usr/local/opt/freetype/include/freetype2 -I/usr/local/Cellar/libpng/1.6.37/include/libpng16 -I/usr/local/Cellar/libxcb/1.14_2/include -I/usr/local/Cellar/libxrender/0.9.10/include -I/usr/local/Cellar/libxext/1.3.4/include -I/usr/local/Cellar/libx11/1.7.3.1/include -I/usr/local/Cellar/libxcb/1.14_2/include -I/usr/local/Cellar/libxau/1.0.9/include -I/usr/local/Cellar/libxdmcp/1.1.3/include -I/usr/local/Cellar/xorgproto/2021.5/include -I/Users/Gary.Hutson/opt/anaconda3/envs/graph-book/include/python3.8 -c cairo/bufferproxy.c -o build/temp.macosx-10.9-x86_64-cpython-38/cairo/bufferproxy.o\n",
      "  \u001b[31m   \u001b[0m xcrun: error: invalid active developer path (/Library/Developer/CommandLineTools), missing xcrun at: /Library/Developer/CommandLineTools/usr/bin/xcrun\n",
      "  \u001b[31m   \u001b[0m error: command '/usr/bin/gcc' failed with exit code 1\n",
      "  \u001b[31m   \u001b[0m \u001b[31m[end of output]\u001b[0m\n",
      "  \n",
      "  \u001b[1;35mnote\u001b[0m: This error originates from a subprocess, and is likely not a problem with pip.\n",
      "\u001b[?25h\u001b[31m  ERROR: Failed building wheel for pycairo\u001b[0m\u001b[31m\n",
      "\u001b[0mFailed to build pycairo\n",
      "\u001b[31mERROR: Could not build wheels for pycairo, which is required to install pyproject.toml-based projects\u001b[0m\u001b[31m\n",
      "\u001b[0mRequirement already satisfied: networkx==2.8.8 in /Users/Gary.Hutson/opt/anaconda3/envs/graph-book/lib/python3.8/site-packages (2.8.8)\n",
      "Requirement already satisfied: igraph==0.9.8 in /Users/Gary.Hutson/opt/anaconda3/envs/graph-book/lib/python3.8/site-packages (0.9.8)\n",
      "Requirement already satisfied: texttable>=1.6.2 in /Users/Gary.Hutson/opt/anaconda3/envs/graph-book/lib/python3.8/site-packages (from igraph==0.9.8) (1.6.4)\n",
      "Requirement already satisfied: matplotlib in /Users/Gary.Hutson/opt/anaconda3/envs/graph-book/lib/python3.8/site-packages (3.6.2)\n",
      "Requirement already satisfied: numpy>=1.19 in /Users/Gary.Hutson/opt/anaconda3/envs/graph-book/lib/python3.8/site-packages (from matplotlib) (1.23.4)\n",
      "Requirement already satisfied: fonttools>=4.22.0 in /Users/Gary.Hutson/opt/anaconda3/envs/graph-book/lib/python3.8/site-packages (from matplotlib) (4.38.0)\n",
      "Requirement already satisfied: contourpy>=1.0.1 in /Users/Gary.Hutson/opt/anaconda3/envs/graph-book/lib/python3.8/site-packages (from matplotlib) (1.0.6)\n",
      "Requirement already satisfied: cycler>=0.10 in /Users/Gary.Hutson/opt/anaconda3/envs/graph-book/lib/python3.8/site-packages (from matplotlib) (0.11.0)\n",
      "Requirement already satisfied: pillow>=6.2.0 in /Users/Gary.Hutson/opt/anaconda3/envs/graph-book/lib/python3.8/site-packages (from matplotlib) (9.3.0)\n",
      "Requirement already satisfied: python-dateutil>=2.7 in /Users/Gary.Hutson/opt/anaconda3/envs/graph-book/lib/python3.8/site-packages (from matplotlib) (2.8.2)\n",
      "Requirement already satisfied: pyparsing>=2.2.1 in /Users/Gary.Hutson/opt/anaconda3/envs/graph-book/lib/python3.8/site-packages (from matplotlib) (3.0.9)\n",
      "Requirement already satisfied: packaging>=20.0 in /Users/Gary.Hutson/opt/anaconda3/envs/graph-book/lib/python3.8/site-packages (from matplotlib) (21.3)\n",
      "Requirement already satisfied: kiwisolver>=1.0.1 in /Users/Gary.Hutson/opt/anaconda3/envs/graph-book/lib/python3.8/site-packages (from matplotlib) (1.4.4)\n",
      "Requirement already satisfied: six>=1.5 in /Users/Gary.Hutson/opt/anaconda3/envs/graph-book/lib/python3.8/site-packages (from python-dateutil>=2.7->matplotlib) (1.16.0)\n"
     ]
    }
   ],
   "source": [
    "! pip install networkx==2.8.8\n",
    "! pip install igraph==0.9.8\n",
    "! pip install matplotlib\n",
    "# Or from the requirements.txt file \n",
    "#! pip install -r requirements.txt"
   ]
  },
  {
   "cell_type": "markdown",
   "metadata": {},
   "source": [
    "## NetworkX basics"
   ]
  },
  {
   "cell_type": "markdown",
   "metadata": {},
   "source": [
    "NetworkX is one of the originally available graph libraries for Python, and is particularly focussed on being user-friendly and Pythonic in its style. It also natively includes methods for calculating some classic network analysis measures."
   ]
  },
  {
   "cell_type": "markdown",
   "metadata": {},
   "source": [
    "To import NetworkX into Python, use:"
   ]
  },
  {
   "cell_type": "code",
   "execution_count": 15,
   "metadata": {},
   "outputs": [
    {
     "name": "stdout",
     "output_type": "stream",
     "text": [
      "Current version of NetworkX imported is 2.8.8\n"
     ]
    }
   ],
   "source": [
    "import networkx as nx\n",
    "print(f'Current version of NetworkX imported is {nx.__version__}')"
   ]
  },
  {
   "cell_type": "markdown",
   "metadata": {},
   "source": [
    "And to create an empty graph aliased g, use:"
   ]
  },
  {
   "cell_type": "code",
   "execution_count": 16,
   "metadata": {},
   "outputs": [],
   "source": [
    "g = nx.Graph()"
   ]
  },
  {
   "cell_type": "markdown",
   "metadata": {},
   "source": [
    "Now we need to add nodes to our graph, which can be done using methods of the Graph object belonging to g. There are multiple ways to do this, the simplest being adding one node at a time:"
   ]
  },
  {
   "cell_type": "code",
   "execution_count": 17,
   "metadata": {},
   "outputs": [
    {
     "name": "stdout",
     "output_type": "stream",
     "text": [
      "['Jeremy']\n",
      "Graph with 1 nodes and 0 edges\n"
     ]
    }
   ],
   "source": [
    "g.add_node(\"Jeremy\")\n",
    "print(g.nodes)\n",
    "print(g)"
   ]
  },
  {
   "cell_type": "markdown",
   "metadata": {},
   "source": [
    "Alternatively, multiple nodes can be added to the graph at once using:"
   ]
  },
  {
   "cell_type": "code",
   "execution_count": 18,
   "metadata": {},
   "outputs": [
    {
     "name": "stdout",
     "output_type": "stream",
     "text": [
      "Graph with 2 nodes and 0 edges. Current nodes in network: ['Jeremy', 'Mark']\n"
     ]
    }
   ],
   "source": [
    "g.add_nodes_from([\"Mark\", \"Jeremy\"])\n",
    "print(f'{g}. Current nodes in network: {g.nodes}')"
   ]
  },
  {
   "cell_type": "markdown",
   "metadata": {},
   "source": [
    "Properties can be added to nodes during creation by passing a node, dictionary tuple to Graph.add_nodes_from, for example:"
   ]
  },
  {
   "cell_type": "code",
   "execution_count": 19,
   "metadata": {},
   "outputs": [
    {
     "name": "stdout",
     "output_type": "stream",
     "text": [
      "Graph with 2 nodes and 0 edges\n"
     ]
    }
   ],
   "source": [
    "g.add_nodes_from([(\n",
    "    \"Mark\", {\"followers\": 2100}), \n",
    "    (\"Jeremy\", {\"followers\": 130}\n",
    "    )])\n",
    "    \n",
    "print(g)"
   ]
  },
  {
   "cell_type": "markdown",
   "metadata": {},
   "source": [
    "To add an edge to the graph, we can use the Graph.add_edge method, and reference the nodes already present in the graph:"
   ]
  },
  {
   "cell_type": "code",
   "execution_count": 20,
   "metadata": {},
   "outputs": [
    {
     "name": "stdout",
     "output_type": "stream",
     "text": [
      "Graph with 2 nodes and 1 edges\n",
      "[('Jeremy', 'Mark')]\n"
     ]
    }
   ],
   "source": [
    "g.add_edge(\"Jeremy\", \"Mark\")\n",
    "print(g)\n",
    "print(g.edges)"
   ]
  },
  {
   "cell_type": "markdown",
   "metadata": {},
   "source": [
    "It is worth noting that in NetworkX, when adding an edge, any nodes specified as part of that edge not already in the graph will be added implicitly."
   ]
  },
  {
   "cell_type": "markdown",
   "metadata": {},
   "source": [
    "To confirm that our graph now contains nodes and edges, we may want to plot it, using **matplotlib** and **networkx.draw()**. The with_labels parameter adds the names of the nodes to the plot:"
   ]
  },
  {
   "cell_type": "code",
   "execution_count": 21,
   "metadata": {},
   "outputs": [
    {
     "data": {
      "image/png": "[encoded data removed]",
      "text/plain": [
       "<Figure size 640x480 with 1 Axes>"
      ]
     },
     "metadata": {},
     "output_type": "display_data"
    }
   ],
   "source": [
    "import matplotlib.pyplot as plt\n",
    "nx.draw(g, with_labels=True)\n",
    "plt.show()\n"
   ]
  },
  {
   "cell_type": "markdown",
   "metadata": {},
   "source": [
    "# igraph basics"
   ]
  },
  {
   "cell_type": "markdown",
   "metadata": {},
   "source": [
    "NetworkX, while user-friendly, suffers from slow speeds when using larger graphs. This is due to its implementation behind the scenes, written in Python, with some C, C++ and FORTRAN.\n",
    "\n",
    "In contrast, igraph is implemented in pure C, giving the library an advantage when working with large graphs and complex network algorithms. While not as immediately accessible as NetworkX for beginners, igraph is a useful tool to have under your belt when code efficiency is paramount.\n",
    "\n",
    "Initially, working with igraph is very similar to working with NetworkX. To import igraph into Python, use:"
   ]
  },
  {
   "cell_type": "code",
   "execution_count": 22,
   "metadata": {},
   "outputs": [
    {
     "name": "stdout",
     "output_type": "stream",
     "text": [
      "Current version of igraph imported is: 0.9.8\n"
     ]
    }
   ],
   "source": [
    "import igraph as ig\n",
    "print(f'Current version of igraph imported is: {ig.__version__}')"
   ]
  },
  {
   "cell_type": "markdown",
   "metadata": {},
   "source": [
    "And to create an empty graph, g, use:"
   ]
  },
  {
   "cell_type": "code",
   "execution_count": 24,
   "metadata": {},
   "outputs": [],
   "source": [
    "g = ig.Graph()"
   ]
  },
  {
   "cell_type": "markdown",
   "metadata": {},
   "source": [
    "In contrast to NetworkX, in igraph, all nodes have a prescribed internal integer ID. The first node added has an ID of 0, with all subsequent nodes assigned increasing integer IDs.\n",
    "\n",
    "Similar to NetworkX, changes can be made to a graph by using methods of a Graph object. Nodes can be added to the graph with the Graph.add_vertices method (note that a vertex is another way to refer to a node). Two nodes can be added to the graph with:"
   ]
  },
  {
   "cell_type": "code",
   "execution_count": 25,
   "metadata": {},
   "outputs": [
    {
     "name": "stdout",
     "output_type": "stream",
     "text": [
      "IGRAPH U--- 2 0 --\n"
     ]
    }
   ],
   "source": [
    "g.add_vertices(2)"
   ]
  },
  {
   "cell_type": "markdown",
   "metadata": {},
   "source": [
    "This will add the nodes 0 and 1 to the graph. To name them, we have to assign properties to the nodes. We can do this by accessing the vertices of the Graph object. Similar to how you would access elements of a list, each node’s properties can be accessed by using the notation below. Here we are setting the “name” and “followers” attributes of nodes 0 and 1:"
   ]
  },
  {
   "cell_type": "code",
   "execution_count": 26,
   "metadata": {},
   "outputs": [],
   "source": [
    "g.vs[0][\"name\"] = \"Jeremy\"\n",
    "g.vs[1][\"name\"] = \"Mark\"\n",
    "g.vs[0][\"followers\"] = 130\n",
    "g.vs[1][\"followers\"] = 2100\n"
   ]
  },
  {
   "cell_type": "markdown",
   "metadata": {},
   "source": [
    "Node properties can also be added listwise, where the first list element corresponds to node ID 0, the second node ID 1, and so on. The following two lines are equivalent to the four lines above:"
   ]
  },
  {
   "cell_type": "code",
   "execution_count": 27,
   "metadata": {},
   "outputs": [],
   "source": [
    "g.vs[\"name\"] = [\"Jeremy\", \"Mark\"]\n",
    "g.vs[\"followers\"] = [130, 2100]"
   ]
  },
  {
   "cell_type": "markdown",
   "metadata": {},
   "source": [
    "To add an edge, we can use the Graph.add_edges() method:"
   ]
  },
  {
   "cell_type": "code",
   "execution_count": 28,
   "metadata": {},
   "outputs": [],
   "source": [
    "g.add_edges([(0, 1)])"
   ]
  },
  {
   "cell_type": "markdown",
   "metadata": {},
   "source": [
    "Here, we are only adding one edge, but additional edges can be added to the list parameter required by add_edges. SAs with NetworkX, if edges are added for nodes that are not currently in the graph, nodes will be created implicitly. However, since igraph requires nodes to have sequential IDs, attempting to add the edge pair (1, 3) to a graph with two vertices, will fail."
   ]
  }
 ],
 "metadata": {
  "kernelspec": {
   "display_name": "Python 3.8.15 ('graph-book')",
   "language": "python",
   "name": "python3"
  },
  "language_info": {
   "codemirror_mode": {
    "name": "ipython",
    "version": 3
   },
   "file_extension": ".py",
   "mimetype": "text/x-python",
   "name": "python",
   "nbconvert_exporter": "python",
   "pygments_lexer": "ipython3",
   "version": "3.8.15"
  },
  "orig_nbformat": 4,
  "vscode": {
   "interpreter": {
    "hash": "0e962125a6bade716827c7cd07d3b7c9b717838910a5075eb32d8b321480d4bb"
   }
  }
 },
 "nbformat": 4,
 "nbformat_minor": 2
}
