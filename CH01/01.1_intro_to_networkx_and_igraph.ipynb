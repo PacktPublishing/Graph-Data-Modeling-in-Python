{
 "cells": [
  {
   "cell_type": "markdown",
   "metadata": {},
   "source": [
    "# Introduction to NetworkX and igraph"
   ]
  },
  {
   "cell_type": "markdown",
   "metadata": {},
   "source": [
    "NetworkX is a Python package for the creation, manipulation, study of the structure and dynamics of complex networks. Their website: https://networkx.org/ contains details of the major changes to the package, and the intended usage of the tool. \n",
    "\n",
    "Igraph is a collection of network analysis tools with the emphasis being on efficiency, portability and ease of use. What is great about igraph is that it is open source and free, plus it supports networks to be built in R, Python, Mathematica and C / C++. This is our recommended package for the creation of large networks that can load much more quickly than NetworkX. To read more about igraph: https://igraph.org/."
   ]
  },
  {
   "cell_type": "markdown",
   "metadata": {},
   "source": [
    "## Getting setup"
   ]
  },
  {
   "cell_type": "markdown",
   "metadata": {},
   "source": [
    "To get setup for this tutorial you will need to pip install the required packages into your environment:"
   ]
  },
  {
   "cell_type": "code",
   "execution_count": null,
   "metadata": {},
   "outputs": [],
   "source": [
    "! pip install networkx==2.8.8\n",
    "! pip install igraph==0.9.8\n",
    "# Or from the requirements.txt file \n",
    "#! pip install -r requirements.txt"
   ]
  },
  {
   "cell_type": "markdown",
   "metadata": {},
   "source": [
    "## NetworkX basics"
   ]
  },
  {
   "cell_type": "markdown",
   "metadata": {},
   "source": [
    "NetworkX is one of the originally available graph libraries for Python, and is particularly focussed on being user-friendly and Pythonic in its style. It also natively includes methods for calculating some classic network analysis measures."
   ]
  },
  {
   "cell_type": "markdown",
   "metadata": {},
   "source": [
    "To import NetworkX into Python, use:"
   ]
  },
  {
   "cell_type": "code",
   "execution_count": null,
   "metadata": {},
   "outputs": [],
   "source": [
    "import networkx as nx\n",
    "print(f'Current version of NetworkX imported is {nx.__version__}')"
   ]
  },
  {
   "cell_type": "markdown",
   "metadata": {},
   "source": [
    "And to create an empty graph aliased g, use:"
   ]
  },
  {
   "cell_type": "code",
   "execution_count": null,
   "metadata": {},
   "outputs": [],
   "source": [
    "g = nx.Graph()"
   ]
  },
  {
   "cell_type": "markdown",
   "metadata": {},
   "source": [
    "Now we need to add nodes to our graph, which can be done using methods of the Graph object belonging to g. There are multiple ways to do this, the simplest being adding one node at a time:"
   ]
  },
  {
   "cell_type": "markdown",
   "metadata": {},
   "source": []
  },
  {
   "cell_type": "code",
   "execution_count": null,
   "metadata": {},
   "outputs": [],
   "source": [
    "g.add_node(\"Jeremy\")\n",
    "print(g.nodes)\n",
    "print(g)"
   ]
  },
  {
   "cell_type": "markdown",
   "metadata": {},
   "source": [
    "Alternatively, multiple nodes can be added to the graph at once using:"
   ]
  },
  {
   "cell_type": "code",
   "execution_count": null,
   "metadata": {},
   "outputs": [],
   "source": [
    "g.add_nodes_from([\"Mark\", \"Jeremy\"])\n",
    "print(f'{g}. Current nodes in network: {g.nodes}')"
   ]
  },
  {
   "cell_type": "markdown",
   "metadata": {},
   "source": [
    "Properties can be added to nodes during creation by passing a node, dictionary tuple to Graph.add_nodes_from, for example:"
   ]
  },
  {
   "cell_type": "code",
   "execution_count": null,
   "metadata": {},
   "outputs": [],
   "source": [
    "g.add_nodes_from([(\n",
    "    \"Mark\", {\"followers\": 2100}), \n",
    "    (\"Jeremy\", {\"followers\": 130}\n",
    "    )])\n",
    "    \n",
    "print(g)"
   ]
  },
  {
   "cell_type": "markdown",
   "metadata": {},
   "source": [
    "To add an edge to the graph, we can use the Graph.add_edge method, and reference the nodes already present in the graph:"
   ]
  },
  {
   "cell_type": "code",
   "execution_count": null,
   "metadata": {},
   "outputs": [],
   "source": [
    "g.add_edge(\"Jeremy\", \"Mark\")\n",
    "print(g)\n",
    "print(g.edges)"
   ]
  },
  {
   "cell_type": "markdown",
   "metadata": {},
   "source": [
    "It is worth noting that in NetworkX, when adding an edge, any nodes specified as part of that edge not already in the graph will be added implicitly."
   ]
  },
  {
   "cell_type": "markdown",
   "metadata": {},
   "source": [
    "# igraph basics"
   ]
  },
  {
   "cell_type": "markdown",
   "metadata": {},
   "source": [
    "NetworkX, while user-friendly, suffers from slow speeds when using larger graphs. This is due to its implementation behind the scenes, written in Python, with some C, C++ and FORTRAN.\n",
    "\n",
    "In contrast, igraph is implemented in pure C, giving the library an advantage when working with large graphs and complex network algorithms. While not as immediately accessible as NetworkX for beginners, igraph is a useful tool to have under your belt when code efficiency is paramount.\n",
    "\n",
    "Initially, working with igraph is very similar to working with NetworkX. To import igraph into Python, use:"
   ]
  },
  {
   "cell_type": "code",
   "execution_count": null,
   "metadata": {},
   "outputs": [],
   "source": [
    "import igraph as ig\n",
    "print(f'Current version of igraph imported is: {ig.__version__}')"
   ]
  },
  {
   "cell_type": "markdown",
   "metadata": {},
   "source": [
    "And to create an empty graph, g, use:"
   ]
  },
  {
   "cell_type": "code",
   "execution_count": null,
   "metadata": {},
   "outputs": [],
   "source": [
    "g = ig.Graph()"
   ]
  },
  {
   "cell_type": "markdown",
   "metadata": {},
   "source": [
    "In contrast to NetworkX, in igraph, all nodes have a prescribed internal integer ID. The first node added has an ID of 0, with all subsequent nodes assigned increasing integer IDs.\n",
    "\n",
    "Similar to NetworkX, changes can be made to a graph by using methods of a Graph object. Nodes can be added to the graph with the Graph.add_vertices method (note that a vertex is another way to refer to a node). Two nodes can be added to the graph with:"
   ]
  },
  {
   "cell_type": "code",
   "execution_count": null,
   "metadata": {},
   "outputs": [],
   "source": [
    "g.add_vertices(2)"
   ]
  },
  {
   "cell_type": "markdown",
   "metadata": {},
   "source": [
    "This will add the nodes 0 and 1 to the graph. To name them, we have to assign properties to the nodes. We can do this by accessing the vertices of the Graph object. Similar to how you would access elements of a list, each node’s properties can be accessed by using the notation below. Here we are setting the “name” and “followers” attributes of nodes 0 and 1:"
   ]
  },
  {
   "cell_type": "code",
   "execution_count": null,
   "metadata": {},
   "outputs": [],
   "source": [
    "g.vs[0][\"name\"] = \"Jeremy\"\n",
    "g.vs[1][\"name\"] = \"Mark\"\n",
    "g.vs[0][\"followers\"] = 130\n",
    "g.vs[1][\"followers\"] = 2100\n"
   ]
  },
  {
   "cell_type": "markdown",
   "metadata": {},
   "source": [
    "Node properties can also be added listwise, where the first list element corresponds to node ID 0, the second node ID 1, and so on. The following two lines are equivalent to the four lines above:"
   ]
  },
  {
   "cell_type": "code",
   "execution_count": null,
   "metadata": {},
   "outputs": [],
   "source": [
    "g.vs[\"name\"] = [\"Jeremy\", \"Mark\"]\n",
    "g.vs[\"followers\"] = [130, 2100]"
   ]
  },
  {
   "cell_type": "markdown",
   "metadata": {},
   "source": [
    "To add an edge, we can use the Graph.add_edges() method:"
   ]
  },
  {
   "cell_type": "code",
   "execution_count": null,
   "metadata": {},
   "outputs": [],
   "source": [
    "g.add_edges([(0, 1)])"
   ]
  },
  {
   "cell_type": "markdown",
   "metadata": {},
   "source": [
    "Here, we are only adding one edge, but additional edges can be added to the list parameter required by add_edges. SAs with NetworkX, if edges are added for nodes that are not currently in the graph, nodes will be created implicitly. However, since igraph requires nodes to have sequential IDs, attempting to add the edge pair (1, 3) to a graph with two vertices, will fail."
   ]
  }
 ],
 "metadata": {
  "kernelspec": {
   "display_name": "Python 3.8.15 ('graph-book')",
   "language": "python",
   "name": "python3"
  },
  "language_info": {
   "codemirror_mode": {
    "name": "ipython",
    "version": 3
   },
   "file_extension": ".py",
   "mimetype": "text/x-python",
   "name": "python",
   "nbconvert_exporter": "python",
   "pygments_lexer": "ipython3",
   "version": "3.8.15"
  },
  "orig_nbformat": 4,
  "vscode": {
   "interpreter": {
    "hash": "0e962125a6bade716827c7cd07d3b7c9b717838910a5075eb32d8b321480d4bb"
   }
  }
 },
 "nbformat": 4,
 "nbformat_minor": 2
}
