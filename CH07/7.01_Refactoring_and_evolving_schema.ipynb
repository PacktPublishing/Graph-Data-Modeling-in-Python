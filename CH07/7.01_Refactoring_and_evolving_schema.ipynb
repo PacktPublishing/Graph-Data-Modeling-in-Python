{
 "cells": [
  {
   "attachments": {},
   "cell_type": "markdown",
   "metadata": {},
   "source": [
    "# Refactoring and evolving schema"
   ]
  },
  {
   "cell_type": "code",
   "execution_count": null,
   "metadata": {},
   "outputs": [],
   "source": [
    "#!pip install -r requirements.txt"
   ]
  },
  {
   "attachments": {},
   "cell_type": "markdown",
   "metadata": {},
   "source": [
    "## Setting up Neo4J database\n",
    "As in the previous two chapters, we will start by creating a new Neo4j graph database. The steps to do this are detailed here: \n",
    "\n",
    "1. Open Neo4j, and choose Add, and then Local DBMS. This will create a new local graph database we are going to work with in this section\n",
    "2. For this chapter, we will call the new database Refactor DB, and again use the password testpython. Make sure to create a database with these settings, for repeatability. However, you could call this whatever you wish\n",
    "3. Once the database is created, click on it and choose Start to spin it up for the first time, which may take a minute or so. Once it has started, choose Open to open up the new database in Neo4j Browser.\n",
    "4. Again, as before, we need to add a new user with administrator privileges, in order to run Cypher on the Neo4j database from Python. In the Neo4j Browser console, run: `:server user add`\n",
    "5. This will open a window where you can enter username and password for the new user. Here we will use the username admin, and the password  testpython. In the drop down Roles list, choose both admin and PUBLIC. Finally, click Add User.\n"
   ]
  },
  {
   "attachments": {},
   "cell_type": "markdown",
   "metadata": {},
   "source": [
    "## Adding constraints"
   ]
  },
  {
   "cell_type": "code",
   "execution_count": null,
   "metadata": {},
   "outputs": [],
   "source": [
    "%%writefile cypher/uniq_user.cql\n",
    "CREATE CONSTRAINT unique_user\n",
    "FOR (u:User) \n",
    "REQUIRE u.userID IS UNIQUE"
   ]
  },
  {
   "cell_type": "code",
   "execution_count": null,
   "metadata": {},
   "outputs": [],
   "source": [
    "%%writefile cypher/test_user_creation.cql\n",
    "CREATE (u:User {userID:'100'})"
   ]
  },
  {
   "cell_type": "code",
   "execution_count": null,
   "metadata": {},
   "outputs": [],
   "source": [
    "%%writefile cypher/merge_node_100.cql\n",
    "MERGE (u:User {userID:'100'})"
   ]
  },
  {
   "cell_type": "code",
   "execution_count": null,
   "metadata": {},
   "outputs": [],
   "source": [
    "%%writefile cypher/clear_env.cql\n",
    "MATCH (n) DETACH DELETE n"
   ]
  },
  {
   "attachments": {},
   "cell_type": "markdown",
   "metadata": {},
   "source": [
    "## Pre-change schema"
   ]
  },
  {
   "cell_type": "code",
   "execution_count": null,
   "metadata": {},
   "outputs": [],
   "source": [
    "from graphtastic.database.neo4j import Neo4jConnect\n",
    "from neo4j import GraphDatabase"
   ]
  },
  {
   "cell_type": "code",
   "execution_count": null,
   "metadata": {},
   "outputs": [],
   "source": [
    "connection = Neo4jConnect('bolt://localhost:7687', 'admin', 'testpython')\n",
    "print(connection)"
   ]
  },
  {
   "cell_type": "code",
   "execution_count": null,
   "metadata": {},
   "outputs": [],
   "source": [
    "import csv\n",
    "with open('./data/edges1.csv', 'r') as c:\n",
    "    reader = csv.reader(c)\n",
    "    edgelist = [edge for edge in reader]\n",
    "print(edgelist[:5])\n"
   ]
  },
  {
   "cell_type": "code",
   "execution_count": null,
   "metadata": {},
   "outputs": [],
   "source": [
    "def add_edge_neo4j(n, m, connection):\n",
    "    cypher = f'MERGE (u1:User {{userID: \"{n}\"}}) ' \\\n",
    "             f'MERGE (u2:User {{userID: \"{m}\"}}) ' \\\n",
    "              'MERGE (u1)-[:FOLLOWS]->(u2)'\n",
    "    connection.query(cypher)\n"
   ]
  },
  {
   "cell_type": "code",
   "execution_count": null,
   "metadata": {},
   "outputs": [],
   "source": [
    "connection = Neo4jConnect('bolt://localhost:7687', 'admin', 'testpython')\n",
    "add_edge_neo4j(edgelist[0][0], edgelist[0][1], connection)\n",
    "connection.close()"
   ]
  },
  {
   "attachments": {},
   "cell_type": "markdown",
   "metadata": {},
   "source": [
    "Code to be run in `Neo4j Browser`:"
   ]
  },
  {
   "cell_type": "code",
   "execution_count": null,
   "metadata": {},
   "outputs": [],
   "source": [
    "%%writefile cypher/match_user.cql\n",
    "MATCH (u:User) RETURN u"
   ]
  },
  {
   "cell_type": "code",
   "execution_count": null,
   "metadata": {},
   "outputs": [],
   "source": [
    "for n, m in edgelist:\n",
    "    connection = Neo4jConnect('bolt://localhost:7687', 'admin', 'testpython')\n",
    "    add_edge_neo4j(n, m, connection)\n",
    "    connection.close()"
   ]
  },
  {
   "cell_type": "code",
   "execution_count": null,
   "metadata": {},
   "outputs": [],
   "source": [
    "with open('./data/circle1.csv', 'r') as c:\n",
    "    reader = csv.reader(c)\n",
    "    circles_raw = [row for row in reader]\n",
    "print(circles_raw)"
   ]
  },
  {
   "cell_type": "code",
   "execution_count": null,
   "metadata": {},
   "outputs": [],
   "source": [
    "def get_user_circle_pairs(circles):\n",
    "    pairs = []\n",
    "    for circle in circles:\n",
    "        circle_pairs = [[user, circle[0]] for user in circle][1:]\n",
    "        [pairs.append(pair) for pair in circle_pairs]\n",
    "    return pairs"
   ]
  },
  {
   "cell_type": "code",
   "execution_count": null,
   "metadata": {},
   "outputs": [],
   "source": [
    "pairs = get_user_circle_pairs(circles_raw)"
   ]
  },
  {
   "cell_type": "code",
   "execution_count": null,
   "metadata": {},
   "outputs": [],
   "source": [
    "print(pairs)"
   ]
  },
  {
   "cell_type": "code",
   "execution_count": null,
   "metadata": {},
   "outputs": [],
   "source": [
    "def add_circles_neo4j(user_id, circle_id, connection):\n",
    "    cypher = f'MATCH (u:User {{userID: \"{user_id}\"}})' \\\n",
    "         \tf'SET u.circle = \"{circle_id}\"'\n",
    "    connection.query(cypher)"
   ]
  },
  {
   "cell_type": "code",
   "execution_count": null,
   "metadata": {},
   "outputs": [],
   "source": [
    "for user_id, circle_id in pairs:\n",
    "\tconnection = Neo4jConnect('bolt://localhost:7687', 'admin', 'testpython')\n",
    "\tadd_circles_neo4j(user_id, circle_id, connection)\n",
    "\tconnection.close()"
   ]
  },
  {
   "cell_type": "code",
   "execution_count": null,
   "metadata": {},
   "outputs": [],
   "source": [
    "%%writefile cypher/pairs.cql\n",
    "MATCH (u:User) RETURN u.circle"
   ]
  },
  {
   "attachments": {},
   "cell_type": "markdown",
   "metadata": {},
   "source": [
    "## Updating the schema"
   ]
  },
  {
   "cell_type": "code",
   "execution_count": null,
   "metadata": {},
   "outputs": [],
   "source": [
    "%%writefile cypher/find_spec_circle.cql\n",
    "MATCH (u.User {circle: '5'}) RETURN u"
   ]
  },
  {
   "cell_type": "code",
   "execution_count": null,
   "metadata": {},
   "outputs": [],
   "source": [
    "%%writefile cypher/follower_schema.cql\n",
    "MATCH (u:User)\n",
    "WHERE '5' in u.circle RETURN u"
   ]
  },
  {
   "cell_type": "code",
   "execution_count": null,
   "metadata": {},
   "outputs": [],
   "source": [
    "with open('./data/edges2.csv', 'r') as c:\n",
    "\treader = csv.reader(c)\n",
    "\tedgelist2 = [edge for edge in reader]\n",
    " \n",
    "with open('./data/circle2.csv', 'r') as c:\n",
    "\treader = csv.reader(c)\n",
    "\tcircles2 = [row for row in reader]"
   ]
  },
  {
   "cell_type": "code",
   "execution_count": null,
   "metadata": {},
   "outputs": [],
   "source": [
    "for n, m in edgelist2:\n",
    "\tconnection = Neo4jConnect('bolt://localhost:7687', 'admin', 'testpython')\n",
    "\tadd_edge_neo4j(n, m, connection)\n",
    "\tconnection.close()"
   ]
  },
  {
   "cell_type": "code",
   "execution_count": null,
   "metadata": {},
   "outputs": [],
   "source": [
    "pairs2 = get_user_circle_pairs(circles2)"
   ]
  },
  {
   "cell_type": "code",
   "execution_count": null,
   "metadata": {},
   "outputs": [],
   "source": [
    "def add_circles_neo4j_new_schema(user_id, circle_id, connection):\n",
    "\tcypher = f'MATCH (u:User {{userID: \"{user_id}\"}})' \\\n",
    "         \tf'MERGE (c:Circle {{circleID: \"{circle_id}\"}})' \\\n",
    "          \t'MERGE (u)-[:MEMBER_OF]->(c)'\n",
    "\tconnection.query(cypher)"
   ]
  },
  {
   "cell_type": "code",
   "execution_count": null,
   "metadata": {},
   "outputs": [],
   "source": [
    "for user_id, circle_id in pairs2:\n",
    "    connection = Neo4jConnect('bolt://localhost:7687', 'admin', 'testpython')\n",
    "    add_circles_neo4j_new_schema(user_id, circle_id, connection)\n",
    "    connection.close()"
   ]
  },
  {
   "cell_type": "code",
   "execution_count": null,
   "metadata": {},
   "outputs": [],
   "source": [
    "%%writefile cypher/member_of_circles.cql\n",
    "MATCH (u:User)-[:MEMBER_OF]->(c:Circle {circleID: '5'})\n",
    "RETURN u, c"
   ]
  },
  {
   "cell_type": "code",
   "execution_count": null,
   "metadata": {},
   "outputs": [],
   "source": [
    "%%writefile cypher/remove_the_old_data.cql\n",
    "MATCH (u:User)\n",
    "REMOVE u.circle"
   ]
  }
 ],
 "metadata": {
  "kernelspec": {
   "display_name": "graph-book",
   "language": "python",
   "name": "python3"
  },
  "language_info": {
   "codemirror_mode": {
    "name": "ipython",
    "version": 3
   },
   "file_extension": ".py",
   "mimetype": "text/x-python",
   "name": "python",
   "nbconvert_exporter": "python",
   "pygments_lexer": "ipython3",
   "version": "3.8.15"
  },
  "orig_nbformat": 4
 },
 "nbformat": 4,
 "nbformat_minor": 2
}
