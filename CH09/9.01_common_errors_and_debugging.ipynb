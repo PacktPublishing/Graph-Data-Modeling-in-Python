{
 "cells": [
  {
   "attachments": {},
   "cell_type": "markdown",
   "metadata": {},
   "source": [
    "# Common errors and debugging"
   ]
  },
  {
   "cell_type": "code",
   "execution_count": null,
   "metadata": {},
   "outputs": [],
   "source": [
    "import csv\n",
    "import igraph"
   ]
  },
  {
   "attachments": {},
   "cell_type": "markdown",
   "metadata": {},
   "source": [
    "## Common *igraph* issues"
   ]
  },
  {
   "attachments": {},
   "cell_type": "markdown",
   "metadata": {},
   "source": [
    "### No nodes in the graph"
   ]
  },
  {
   "cell_type": "code",
   "execution_count": null,
   "metadata": {},
   "outputs": [],
   "source": [
    "with open('./data/musae_git_edges.csv', 'r') as c:\n",
    "    reader = csv.reader(c)\n",
    "    edges = [row for row in reader][1:]"
   ]
  },
  {
   "attachments": {},
   "cell_type": "markdown",
   "metadata": {},
   "source": [
    "The code below should produce an error `ValueError: no such vertex: '0'`:"
   ]
  },
  {
   "cell_type": "code",
   "execution_count": null,
   "metadata": {},
   "outputs": [],
   "source": [
    "g = igraph.Graph()\n",
    "g.add_edges(edges)"
   ]
  },
  {
   "cell_type": "code",
   "execution_count": null,
   "metadata": {},
   "outputs": [],
   "source": [
    "edges = [[int(edge[0]), int(edge[1])] for edge in edges]\n",
    "g.add_edges(edges)"
   ]
  },
  {
   "cell_type": "code",
   "execution_count": null,
   "metadata": {},
   "outputs": [],
   "source": [
    "nodes = set([node for edge in edges for node in edge])\n",
    "print(len(nodes)) "
   ]
  },
  {
   "cell_type": "code",
   "execution_count": null,
   "metadata": {},
   "outputs": [],
   "source": [
    "g.add_vertices(len(nodes))\n",
    "g.add_edges(edges)"
   ]
  },
  {
   "cell_type": "code",
   "execution_count": null,
   "metadata": {},
   "outputs": [],
   "source": [
    "print(len(g.es))"
   ]
  },
  {
   "attachments": {},
   "cell_type": "markdown",
   "metadata": {},
   "source": [
    "### Node IDs in *igraph*"
   ]
  },
  {
   "cell_type": "code",
   "execution_count": null,
   "metadata": {},
   "outputs": [],
   "source": [
    "g = igraph.Graph()"
   ]
  },
  {
   "cell_type": "code",
   "execution_count": null,
   "metadata": {},
   "outputs": [],
   "source": [
    "new_edges = edges + [[40000, 0], [99999, 1], [40000, 99999]]"
   ]
  },
  {
   "cell_type": "code",
   "execution_count": null,
   "metadata": {},
   "outputs": [],
   "source": [
    "new_nodes = set([node for edge in new_edges for node in edge])\n",
    "print(len(new_nodes))  "
   ]
  },
  {
   "cell_type": "code",
   "execution_count": null,
   "metadata": {},
   "outputs": [],
   "source": [
    "g.add_vertices(len(new_nodes))\n",
    "g.add_edges(new_edges)"
   ]
  },
  {
   "cell_type": "code",
   "execution_count": null,
   "metadata": {},
   "outputs": [],
   "source": [
    "new_nodes = sorted(list(new_nodes))\n",
    "igraph_ids = {node: igraph_id for igraph_id, node in enumerate(new_nodes)}"
   ]
  },
  {
   "cell_type": "code",
   "execution_count": null,
   "metadata": {},
   "outputs": [],
   "source": [
    "print(igraph_ids[40000])\n",
    "print(igraph_ids[99999])\n",
    "print(igraph_ids[0])"
   ]
  },
  {
   "cell_type": "code",
   "execution_count": null,
   "metadata": {},
   "outputs": [],
   "source": [
    "ig_edges = [[igraph_ids[edge[0]], igraph_ids[edge[1]]] for edge in new_edges]\n",
    "g.add_edges(ig_edges)\n",
    "print(len(g.es))"
   ]
  },
  {
   "attachments": {},
   "cell_type": "markdown",
   "metadata": {},
   "source": [
    "### Adding properties"
   ]
  },
  {
   "cell_type": "code",
   "execution_count": null,
   "metadata": {},
   "outputs": [],
   "source": [
    "with open('./data/musae_git_target.csv', 'r') as c:\n",
    "    reader = csv.reader(c)\n",
    "    node_attributes = [row for row in reader][1:]"
   ]
  },
  {
   "cell_type": "code",
   "execution_count": null,
   "metadata": {},
   "outputs": [],
   "source": [
    "for node_id, name in node_attributes:\n",
    "    g.vs[int(node_id)]['developer_name'] = name\n",
    "print(g.vs[0]['developer_name'])"
   ]
  },
  {
   "cell_type": "code",
   "execution_count": null,
   "metadata": {},
   "outputs": [],
   "source": [
    "developer_names = [row[1] for row in node_attributes]\n",
    "g.vs['developer_name'] = developer_names\n",
    "print(g.vs[0]['developer_name'])"
   ]
  },
  {
   "cell_type": "code",
   "execution_count": null,
   "metadata": {},
   "outputs": [],
   "source": [
    "developer_names_dup = [developer_names[0]] + developer_names\n",
    "g.vs['developer_name'] = developer_names_dup\n"
   ]
  },
  {
   "cell_type": "code",
   "execution_count": null,
   "metadata": {},
   "outputs": [],
   "source": [
    "print(g.vs[0]['developer_name'])\n",
    "print(g.vs[1]['developer_name'])"
   ]
  },
  {
   "cell_type": "code",
   "execution_count": null,
   "metadata": {},
   "outputs": [],
   "source": [
    "assert len(g.vs) == len(developer_names_dup)"
   ]
  },
  {
   "attachments": {},
   "cell_type": "markdown",
   "metadata": {},
   "source": [
    "### Using the `select()` method"
   ]
  },
  {
   "cell_type": "code",
   "execution_count": null,
   "metadata": {},
   "outputs": [],
   "source": [
    "high_degree = g.vs.select(_degree_gt=2000)"
   ]
  },
  {
   "cell_type": "code",
   "execution_count": null,
   "metadata": {},
   "outputs": [],
   "source": [
    "degree = g.degree()\n",
    "g.vs['degree'] = degree"
   ]
  },
  {
   "cell_type": "code",
   "execution_count": null,
   "metadata": {},
   "outputs": [],
   "source": [
    "high_degree = g.vs.select(degree_gt=2000)\n",
    "print(list(high_degree))"
   ]
  },
  {
   "attachments": {},
   "cell_type": "markdown",
   "metadata": {},
   "source": [
    "### Chained statements and `select()`"
   ]
  },
  {
   "cell_type": "code",
   "execution_count": null,
   "metadata": {},
   "outputs": [],
   "source": [
    "sample = g.vs.select([0, 1, 2])\n",
    "print(list(sample))"
   ]
  },
  {
   "cell_type": "code",
   "execution_count": null,
   "metadata": {},
   "outputs": [],
   "source": [
    "degree_100 = g.vs.select(_degree_eq=100)\n",
    "print(list(degree_100))"
   ]
  },
  {
   "cell_type": "code",
   "execution_count": null,
   "metadata": {},
   "outputs": [],
   "source": [
    "assert degree_100.select([1075])"
   ]
  },
  {
   "cell_type": "code",
   "execution_count": null,
   "metadata": {},
   "outputs": [],
   "source": [
    "sample = degree_100.select([0])\n",
    "print(list(sample))"
   ]
  },
  {
   "attachments": {},
   "cell_type": "markdown",
   "metadata": {},
   "source": [
    "### Efficiency and path lengths"
   ]
  },
  {
   "cell_type": "code",
   "execution_count": null,
   "metadata": {},
   "outputs": [],
   "source": [
    "harmonic = g.harmonic_centrality()\n",
    "print(harmonic)"
   ]
  },
  {
   "cell_type": "code",
   "execution_count": null,
   "metadata": {},
   "outputs": [],
   "source": [
    "harmonic = g.harmonic_centrality(cutoff=3)\n",
    "print(harmonic)"
   ]
  },
  {
   "attachments": {},
   "cell_type": "markdown",
   "metadata": {},
   "source": [
    "## Common Neo4j issues"
   ]
  },
  {
   "attachments": {},
   "cell_type": "markdown",
   "metadata": {},
   "source": [
    "These examples will be done in the **Neo4j Browser**. The notebook will only store the Cypher Query Language (cql) files into a cypher folder, and to continue to follow on, head over to the window. "
   ]
  },
  {
   "attachments": {},
   "cell_type": "markdown",
   "metadata": {},
   "source": [
    "### Slow writing in Neo4j"
   ]
  },
  {
   "cell_type": "code",
   "execution_count": null,
   "metadata": {},
   "outputs": [],
   "source": [
    "%%writefile cypher/load_git_edges.cql\n",
    "LOAD CSV WITH HEADERS FROM 'file:///musae_git_edges.csv' AS row\n",
    "MERGE (d1:Developer {githubId:row.id_1})\n",
    "MERGE (d2:Developer {githubId:row.id_2})\n",
    "CREATE (d1)-[:FOLLOWS]->(d2)"
   ]
  },
  {
   "cell_type": "code",
   "execution_count": null,
   "metadata": {},
   "outputs": [],
   "source": [
    "%%writefile cypher/optim_auto_load_git_edges.cql\n",
    ":auto LOAD CSV WITH HEADERS FROM 'file:///musae_git_edges.csv' AS row\n",
    "CALL {\n",
    "\tWITH row\n",
    "\tMERGE (d1:Developer {githubId:row.id_1})\n",
    "\tMERGE (d2:Developer {githubId:row.id_2})\n",
    "\tCREATE (d1)-[:FOLLOWS]->(d2)\n",
    "} IN TRANSACTIONS OF 1000 ROWS\n"
   ]
  },
  {
   "attachments": {},
   "cell_type": "markdown",
   "metadata": {},
   "source": [
    "### Indexing for query performance"
   ]
  },
  {
   "cell_type": "code",
   "execution_count": null,
   "metadata": {},
   "outputs": [],
   "source": [
    "%%writefile cypher/remove_data.cql\n",
    "MATCH (n) DETACH DELETE n"
   ]
  },
  {
   "cell_type": "code",
   "execution_count": null,
   "metadata": {},
   "outputs": [],
   "source": [
    "%%writefile cypher/create_githubid_index.cql\n",
    "CREATE INDEX githubId_index\n",
    "FOR (d:Developer)\n",
    "ON (d.githubId)"
   ]
  },
  {
   "cell_type": "code",
   "execution_count": null,
   "metadata": {},
   "outputs": [],
   "source": [
    "%%writefile cypher/drop_gitid_index.cql\n",
    "DROP INDEX githubId"
   ]
  },
  {
   "attachments": {},
   "cell_type": "markdown",
   "metadata": {},
   "source": [
    "### Caching results"
   ]
  },
  {
   "cell_type": "code",
   "execution_count": null,
   "metadata": {},
   "outputs": [],
   "source": [
    "%%writefile cypher/cache_example.cql\n",
    "MATCH (d:Developer)-[:FOLLOWS]-(d2:Developer)\n",
    "WITH size(collect(d2)) as degree, d\n",
    "WHERE degree >= 10\n",
    "RETURN d.githubId, degree ORDER BY degree DESC"
   ]
  },
  {
   "attachments": {},
   "cell_type": "markdown",
   "metadata": {},
   "source": [
    "### Memory limitations"
   ]
  },
  {
   "cell_type": "code",
   "execution_count": null,
   "metadata": {},
   "outputs": [],
   "source": [
    "%%writefile cypher/clear_cache.cql\n",
    "MATCH (d) DETACH DELETE d"
   ]
  },
  {
   "cell_type": "code",
   "execution_count": null,
   "metadata": {},
   "outputs": [],
   "source": [
    "%%writefile cypher/apoc_period_it.cql\n",
    "CALL apoc.periodic.iterate(\"\n",
    "    MATCH (d:Developer) RETURN d\",\n",
    "    \"DETACH DELETE d\", \n",
    "    {batchSize:1000, parallel:false}\n",
    ")"
   ]
  },
  {
   "attachments": {},
   "cell_type": "markdown",
   "metadata": {},
   "source": [
    "### Handling duplicates with `MERGE`"
   ]
  },
  {
   "cell_type": "code",
   "execution_count": null,
   "metadata": {},
   "outputs": [],
   "source": [
    "%%writefile cypher/merge_git_id.cql\n",
    "MERGE (d:Developer {githubId: '1'})"
   ]
  },
  {
   "cell_type": "code",
   "execution_count": null,
   "metadata": {},
   "outputs": [],
   "source": [
    "%%writefile cypher/create_git_id.cql\n",
    "CREATE (d:Developer {githubId: '1'})"
   ]
  },
  {
   "cell_type": "code",
   "execution_count": null,
   "metadata": {},
   "outputs": [],
   "source": [
    "%%writefile cypher/match_git_id.cql\n",
    "MATCH (d:Developer {githubId: '1'}) RETURN d"
   ]
  },
  {
   "cell_type": "code",
   "execution_count": null,
   "metadata": {},
   "outputs": [],
   "source": [
    "%%writefile cypher/follower_gitid.cql\n",
    "MERGE (d:Developer {githubId: '1'})-[:FOLLOWS]->(d2:Developer {githubId: '2'})"
   ]
  },
  {
   "cell_type": "code",
   "execution_count": null,
   "metadata": {},
   "outputs": [],
   "source": [
    "%%writefile cypher/resolution_gitid.cql\n",
    "MERGE (d:Developer {githubId: '1'})\n",
    "MERGE (d2:Developer {githubId: '2'})\n",
    "MERGE (d1)-[:FOLLOWS]->(d2)"
   ]
  },
  {
   "attachments": {},
   "cell_type": "markdown",
   "metadata": {},
   "source": [
    "### Handling duplicates with CONSTRAINTs"
   ]
  },
  {
   "cell_type": "code",
   "execution_count": null,
   "metadata": {},
   "outputs": [],
   "source": [
    "%%writefile cypher/create_constraint.cql\n",
    "CREATE CONSTRAINT githubId_constraint\n",
    "FOR (d:Developer)\n",
    "REQUIRE d.githubId IS UNIQUE"
   ]
  },
  {
   "cell_type": "code",
   "execution_count": null,
   "metadata": {},
   "outputs": [],
   "source": [
    "%%writefile cypher/drop_index_constraint.cql\n",
    "DROP INDEX githubId_index"
   ]
  },
  {
   "cell_type": "code",
   "execution_count": null,
   "metadata": {},
   "outputs": [],
   "source": [
    "%%writefile cypher/merge_error.cql\n",
    "MERGE (d:Developer {githubId: '1'})-[:FOLLOWS]->(d2:Developer {githubId: '2'})"
   ]
  },
  {
   "attachments": {},
   "cell_type": "markdown",
   "metadata": {},
   "source": [
    "### `EXPLAIN`, `PROFILE` and the `Eager` operator"
   ]
  },
  {
   "cell_type": "code",
   "execution_count": null,
   "metadata": {},
   "outputs": [],
   "source": [
    "%%writefile cypher/using_EXPLAIN.cql\n",
    "EXPLAIN\n",
    "MATCH (d:Developer)-[:FOLLOWS]->(d2:Developer)\n",
    "RETURN d, d2"
   ]
  },
  {
   "cell_type": "code",
   "execution_count": null,
   "metadata": {},
   "outputs": [],
   "source": [
    "%%writefile cypher/load_and_EXPLAIN.cql\n",
    "EXPLAIN \n",
    "LOAD CSV WITH HEADERS FROM 'file:///musae_git_edges.csv' AS row\n",
    "MERGE (d1:Developer {githubId:row.id_1})\n",
    "MERGE (d2:Developer {githubId:row.id_2})\n",
    "CREATE (d1)-[:FOLLOWS]->(d2)\n",
    "RETURN d1, d2"
   ]
  },
  {
   "cell_type": "code",
   "execution_count": null,
   "metadata": {},
   "outputs": [],
   "source": [
    "%%writefile cypher/explain_on_row_1.cql\n",
    "EXPLAIN \n",
    "LOAD CSV WITH HEADERS FROM 'file:///musae_git_edges.csv' AS row\n",
    "MERGE (d1:Developer {githubId:row.id_1})"
   ]
  },
  {
   "cell_type": "code",
   "execution_count": null,
   "metadata": {},
   "outputs": [],
   "source": [
    "%%writefile cypher/explain_on_row_2.cql\n",
    "EXPLAIN \n",
    "LOAD CSV WITH HEADERS FROM 'file:///musae_git_edges.csv' AS row\n",
    "MERGE (d1:Developer {githubId:row.id_2})"
   ]
  },
  {
   "cell_type": "code",
   "execution_count": null,
   "metadata": {},
   "outputs": [],
   "source": [
    "%%writefile cypher/EXPLAIN_MATCH.cql\n",
    "EXPLAIN \n",
    "LOAD CSV WITH HEADERS FROM 'file:///musae_git_edges.csv' AS row\n",
    "MATCH (d1:Developer {githubId:row.id_1})\n",
    "MATCH (d2:Developer {githubId:row.id_2})\n",
    "CREATE (d1)-[:FOLLOWS]->(d2)"
   ]
  }
 ],
 "metadata": {
  "kernelspec": {
   "display_name": "graph-book",
   "language": "python",
   "name": "python3"
  },
  "language_info": {
   "codemirror_mode": {
    "name": "ipython",
    "version": 3
   },
   "file_extension": ".py",
   "mimetype": "text/x-python",
   "name": "python",
   "nbconvert_exporter": "python",
   "pygments_lexer": "ipython3",
   "version": "3.8.15"
  },
  "orig_nbformat": 4
 },
 "nbformat": 4,
 "nbformat_minor": 2
}
