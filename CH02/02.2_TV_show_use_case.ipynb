{
 "cells": [
  {
   "cell_type": "markdown",
   "metadata": {},
   "source": [
    "# What is the most popular TV show - a real world use case"
   ]
  },
  {
   "cell_type": "markdown",
   "metadata": {},
   "source": [
    "In this section, we will be taking on the very fortunate position or role of a Facebook data scientist to determine, amongst other things, what the most popular TV show in our dataset is. This will test the knowledge we have gained so far and will take you through a typical use case that gets asked of a graph data scientist."
   ]
  },
  {
   "cell_type": "markdown",
   "metadata": {},
   "source": [
    "## Getting setup"
   ]
  },
  {
   "cell_type": "code",
   "execution_count": null,
   "metadata": {},
   "outputs": [],
   "source": [
    "#! pip install -r requirements.txt\n",
    "import matplotlib.pyplot as plt\n",
    "import igraph"
   ]
  },
  {
   "cell_type": "markdown",
   "metadata": {},
   "source": [
    "## Examing the graph structure"
   ]
  },
  {
   "cell_type": "code",
   "execution_count": null,
   "metadata": {},
   "outputs": [],
   "source": [
    "# Import custom functions\n",
    "from graphtastic.utils import graph_from_attributes_and_edgelist"
   ]
  },
  {
   "cell_type": "code",
   "execution_count": null,
   "metadata": {},
   "outputs": [],
   "source": [
    "node_attr_path = './data/musae_facebook_target.csv'\n",
    "edgelist_path = './data/musae_facebook_edges.csv'\n",
    "attributes = ['page_name', 'page_type']\n",
    "# Create a graph from our wrapper functions\n",
    "g = graph_from_attributes_and_edgelist(node_attr_path, edgelist_path, attributes)"
   ]
  },
  {
   "cell_type": "code",
   "execution_count": null,
   "metadata": {},
   "outputs": [],
   "source": [
    "histogram = g.degree_distribution(bin_width=5)\n",
    "print(histogram)"
   ]
  },
  {
   "cell_type": "code",
   "execution_count": null,
   "metadata": {},
   "outputs": [],
   "source": [
    "import matplotlib.pyplot as plt\n",
    "bins = 30\n",
    "plt.hist(g.degree(), bins)\n",
    "plt.xlabel('Node degree centrality')\n",
    "plt.ylabel('Frequency')\n",
    "plt.show()"
   ]
  },
  {
   "cell_type": "markdown",
   "metadata": {},
   "source": [
    "## Measuring connectedness"
   ]
  },
  {
   "cell_type": "code",
   "execution_count": null,
   "metadata": {},
   "outputs": [],
   "source": [
    "connected_components = g.clusters()\n",
    "print(connected_components)"
   ]
  },
  {
   "cell_type": "markdown",
   "metadata": {},
   "source": [
    "## Looking at the top degree nodes"
   ]
  },
  {
   "cell_type": "code",
   "execution_count": null,
   "metadata": {},
   "outputs": [],
   "source": [
    "degree = list(zip(g.vs['page_name'], g.degree()))\n",
    "sorted_degree = sorted(degree, key=lambda x: x[1], reverse=True)   \n",
    "print(sorted_degree[:10])"
   ]
  },
  {
   "cell_type": "code",
   "execution_count": null,
   "metadata": {},
   "outputs": [],
   "source": [
    "tv_nodes = g.vs.select(page_type_eq='tvshow')\n",
    "tv_indices = [node.index for node in tv_nodes]\n",
    "tv_degree = list(zip(g.vs[tv_indices]['page_name'], g.degree(tv_indices)))\n",
    "sorted_tv_degree = sorted(tv_degree, key=lambda x: x[1], reverse=True)\n",
    "print(sorted_tv_degree[:10])"
   ]
  },
  {
   "cell_type": "markdown",
   "metadata": {},
   "source": [
    "## Using `select()` to interrogate the graph"
   ]
  },
  {
   "cell_type": "code",
   "execution_count": null,
   "metadata": {},
   "outputs": [],
   "source": [
    "gov_pol_nodes = g.vs.select(page_type_in=['government', 'politician'])"
   ]
  },
  {
   "cell_type": "code",
   "execution_count": null,
   "metadata": {},
   "outputs": [],
   "source": [
    "one_to_three_100_nodes = g.vs.select(_degree_ge=100, \n",
    "                                     _degree_le=140, \n",
    "                                     page_type_eq='tvshow')\n",
    "\n",
    "print(one_to_three_100_nodes['page_name'])"
   ]
  },
  {
   "cell_type": "code",
   "execution_count": null,
   "metadata": {},
   "outputs": [],
   "source": [
    "g.vs['node_degree'] = g.degree()\n",
    "one_to_three_100_nodes = g.vs.select(node_degree_ge=100,\n",
    "                                     node_degree_le=140,\n",
    "                                     page_type_eq='tvshow')\n",
    "print(one_to_three_100_nodes['page_name'])"
   ]
  },
  {
   "cell_type": "markdown",
   "metadata": {},
   "source": [
    "## Properties of our popular nodes"
   ]
  },
  {
   "cell_type": "code",
   "execution_count": null,
   "metadata": {},
   "outputs": [],
   "source": [
    "today_show_id = g.vs.select(page_name_eq='Today Show')[0].index\n",
    "print(today_show_id)"
   ]
  },
  {
   "cell_type": "code",
   "execution_count": null,
   "metadata": {},
   "outputs": [],
   "source": [
    "today_show_edges = g.es.select(_incident=[today_show_id])"
   ]
  },
  {
   "cell_type": "code",
   "execution_count": null,
   "metadata": {},
   "outputs": [],
   "source": [
    "sources = [edge.source for edge in today_show_edges]\n",
    "targets = [edge.target for edge in today_show_edges]\n",
    "print(sources)\n",
    "print(targets)"
   ]
  },
  {
   "cell_type": "code",
   "execution_count": null,
   "metadata": {},
   "outputs": [],
   "source": [
    "neighbor_nodes = list(set(sources + targets))\n",
    "neighbor_nodes.remove(909)\n",
    "print(neighbor_nodes)\n",
    "print(len(neighbor_nodes))"
   ]
  },
  {
   "cell_type": "code",
   "execution_count": null,
   "metadata": {},
   "outputs": [],
   "source": [
    "neighbor_page_types = g.vs[neighbor_nodes]['page_type']\n",
    "print(neighbor_page_types)"
   ]
  },
  {
   "cell_type": "code",
   "execution_count": null,
   "metadata": {},
   "outputs": [],
   "source": [
    "from collections import Counter\n",
    "page_type_dict = Counter(neighbor_page_types)\n",
    "print(page_type_dict)"
   ]
  },
  {
   "cell_type": "code",
   "execution_count": null,
   "metadata": {},
   "outputs": [],
   "source": [
    "ids_and_page_types = zip(neighbor_nodes, neighbor_page_types)\n",
    "politician_id = [id_tuple for id_tuple in list(ids_and_page_types) if id_tuple[1] == 'politician']\n",
    "print(politician_id)"
   ]
  },
  {
   "cell_type": "code",
   "execution_count": null,
   "metadata": {},
   "outputs": [],
   "source": [
    "politician_name = g.vs[22243]['page_name']\n",
    "print(politician_name)"
   ]
  },
  {
   "cell_type": "markdown",
   "metadata": {},
   "source": [
    "### Code from this section"
   ]
  },
  {
   "cell_type": "markdown",
   "metadata": {},
   "source": [
    "Running the following code block with create some Jupyter magic and create a script file in this directory to be run in Python as a script, if you prefer. "
   ]
  },
  {
   "cell_type": "code",
   "execution_count": null,
   "metadata": {},
   "outputs": [],
   "source": [
    "%%writefile TV_show_use_case.py\n",
    "\"\"\" \n",
    "Name:       TV_show_use_case.py\n",
    "Author(s):  Gary Hutson & Matt Jackson on behalf of Packt publishing\n",
    "Date:       09/12/2022\n",
    "Usage:      python TV_show_use_case.py.py\n",
    "\"\"\"\n",
    "import matplotlib.pyplot as plt\n",
    "import igraph\n",
    "from collections import Counter\n",
    "\n",
    "# Examining the graph structure\n",
    "# Import custom functions\n",
    "from graphtastic.utils import graph_from_attributes_and_edgelist\n",
    "node_attr_path = './data/musae_facebook_target.csv'\n",
    "edgelist_path = './data/musae_facebook_edges.csv'\n",
    "attributes = ['page_name', 'page_type']\n",
    "\n",
    "# Create a graph from our wrapper functions\n",
    "g = graph_from_attributes_and_edgelist(node_attr_path, edgelist_path, attributes)\n",
    "# Generate histogram\n",
    "histogram = g.degree_distribution(bin_width=5)\n",
    "print(histogram)\n",
    "\n",
    "# Plot histogram\n",
    "import matplotlib.pyplot as plt\n",
    "bins = 30\n",
    "plt.hist(g.degree(), bins)\n",
    "plt.xlabel('Node degree centrality')\n",
    "plt.ylabel('Frequency')\n",
    "plt.show()\n",
    "\n",
    "# Measuring connectedness\n",
    "connected_components = g.clusters()\n",
    "print(connected_components)\n",
    "\n",
    "# Looking at the top degree nodes\n",
    "degree = list(zip(g.vs['page_name'], g.degree()))\n",
    "sorted_degree = sorted(degree, key=lambda x: x[1], reverse=True)   \n",
    "print(sorted_degree[:10])\n",
    "\n",
    "tv_nodes = g.vs.select(page_type_eq='tvshow')\n",
    "tv_indices = [node.index for node in tv_nodes]\n",
    "tv_degree = list(zip(g.vs[tv_indices]['page_name'], g.degree(tv_indices)))\n",
    "sorted_tv_degree = sorted(tv_degree, key=lambda x: x[1], reverse=True)\n",
    "print(sorted_tv_degree[:10])\n",
    "\n",
    "# Using select() to interrogate the graph\n",
    "gov_pol_nodes = g.vs.select(page_type_in=['government', 'politician'])\n",
    "one_to_three_100_nodes = g.vs.select(_degree_ge=100, \n",
    "                                     _degree_le=140, \n",
    "                                     page_type_eq='tvshow')\n",
    "\n",
    "print(one_to_three_100_nodes['page_name'])\n",
    "\n",
    "# Get the node degree\n",
    "g.vs['node_degree'] = g.degree()\n",
    "one_to_three_100_nodes = g.vs.select(node_degree_ge=100,\n",
    "                                     node_degree_le=140,\n",
    "                                     page_type_eq='tvshow')\n",
    "print(one_to_three_100_nodes['page_name'])\n",
    "\n",
    "# Explore the properties of our nodes\n",
    "today_show_id = g.vs.select(page_name_eq='Today Show')[0].index\n",
    "print(today_show_id)\n",
    "today_show_edges = g.es.select(_incident=[today_show_id])\n",
    "\n",
    "sources = [edge.source for edge in today_show_edges]\n",
    "targets = [edge.target for edge in today_show_edges]\n",
    "print(sources)\n",
    "print(targets)\n",
    "\n",
    "neighbor_nodes = list(set(sources + targets))\n",
    "neighbor_nodes.remove(909)\n",
    "print(neighbor_nodes)\n",
    "print(len(neighbor_nodes))\n",
    "\n",
    "neighbor_page_types = g.vs[neighbor_nodes]['page_type']\n",
    "print(neighbor_page_types)\n",
    "\n",
    "\n",
    "page_type_dict = Counter(neighbor_page_types)\n",
    "print(page_type_dict)\n",
    "\n",
    "ids_and_page_types = zip(neighbor_nodes, neighbor_page_types)\n",
    "politician_id = [id_tuple for id_tuple in list(ids_and_page_types) if id_tuple[1] == 'politician']\n",
    "print(politician_id)\n",
    "\n",
    "\n",
    "politician_name = g.vs[22243]['page_name']\n",
    "print(politician_name)"
   ]
  }
 ],
 "metadata": {
  "kernelspec": {
   "display_name": "Python 3.8.15 ('graph-book')",
   "language": "python",
   "name": "python3"
  },
  "language_info": {
   "codemirror_mode": {
    "name": "ipython",
    "version": 3
   },
   "file_extension": ".py",
   "mimetype": "text/x-python",
   "name": "python",
   "nbconvert_exporter": "python",
   "pygments_lexer": "ipython3",
   "version": "3.8.15"
  },
  "orig_nbformat": 4,
  "vscode": {
   "interpreter": {
    "hash": "0e962125a6bade716827c7cd07d3b7c9b717838910a5075eb32d8b321480d4bb"
   }
  }
 },
 "nbformat": 4,
 "nbformat_minor": 2
}
