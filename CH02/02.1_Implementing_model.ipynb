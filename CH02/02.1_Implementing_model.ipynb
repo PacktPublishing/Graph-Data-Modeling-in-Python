{
 "cells": [
  {
   "cell_type": "markdown",
   "metadata": {},
   "source": [
    "# Implementing the model in Python"
   ]
  },
  {
   "cell_type": "markdown",
   "metadata": {},
   "source": [
    "Before we dive into implementing the model, we need to get setup ready to create our graph with *igraph*."
   ]
  },
  {
   "cell_type": "markdown",
   "metadata": {},
   "source": [
    "## Getting setup"
   ]
  },
  {
   "cell_type": "code",
   "execution_count": null,
   "metadata": {},
   "outputs": [],
   "source": [
    "#! pip install -r requirements.txt"
   ]
  },
  {
   "cell_type": "code",
   "execution_count": null,
   "metadata": {},
   "outputs": [],
   "source": [
    "import csv\n",
    "with open('./data/musae_facebook_target.csv', 'r', encoding='utf-8') as csv_file:\n",
    "    reader = csv.reader(csv_file)\n",
    "    data = [line for line in reader]\n",
    "    print(data[:10])\n",
    "    print(len(data))"
   ]
  },
  {
   "cell_type": "markdown",
   "metadata": {},
   "source": [
    "## Adding nodes and attributes"
   ]
  },
  {
   "cell_type": "code",
   "execution_count": null,
   "metadata": {},
   "outputs": [],
   "source": [
    "node_ids = [int(row[0]) for row in data[1:]]\n",
    "page_names = [row[2] for row in data[1:]]\n",
    "page_types = [row[3] for row in data[1:]]"
   ]
  },
  {
   "cell_type": "code",
   "execution_count": null,
   "metadata": {},
   "outputs": [],
   "source": [
    "assert node_ids == list(range(len(node_ids)))"
   ]
  },
  {
   "cell_type": "code",
   "execution_count": null,
   "metadata": {},
   "outputs": [],
   "source": [
    "import igraph as ig\n",
    "g = ig.Graph(directed=False)\n",
    "g.add_vertices(len(node_ids))"
   ]
  },
  {
   "cell_type": "code",
   "execution_count": null,
   "metadata": {},
   "outputs": [],
   "source": [
    "print(len(g.vs))\n",
    "assert len(node_ids) == len(g.vs)"
   ]
  },
  {
   "cell_type": "code",
   "execution_count": null,
   "metadata": {},
   "outputs": [],
   "source": [
    "g.vs['page_name'] = page_names\n",
    "g.vs['page_type'] = page_types"
   ]
  },
  {
   "cell_type": "code",
   "execution_count": null,
   "metadata": {},
   "outputs": [],
   "source": [
    "print(g.vs[0]['page_name'])\n",
    "print(g.vs[0]['page_type'])"
   ]
  },
  {
   "cell_type": "markdown",
   "metadata": {},
   "source": [
    "## Adding edges"
   ]
  },
  {
   "cell_type": "code",
   "execution_count": null,
   "metadata": {},
   "outputs": [],
   "source": [
    "with open('./data/musae_facebook_edges.csv', 'r') as csv_file_2:\n",
    "\treader = csv.reader(csv_file_2)\n",
    "\tedge_data = [row for row in reader]\n",
    "\tprint(edge_data[:10])\n",
    "\tprint(len(edge_data))"
   ]
  },
  {
   "cell_type": "code",
   "execution_count": null,
   "metadata": {},
   "outputs": [],
   "source": [
    "edges = [[int(row[0]), int(row[1])] for row in edge_data[1:]]\n",
    "print(edges[:10])"
   ]
  },
  {
   "cell_type": "code",
   "execution_count": null,
   "metadata": {},
   "outputs": [],
   "source": [
    "g.add_edges(edges)"
   ]
  },
  {
   "cell_type": "code",
   "execution_count": null,
   "metadata": {},
   "outputs": [],
   "source": [
    "print(len(g.es))"
   ]
  },
  {
   "cell_type": "code",
   "execution_count": null,
   "metadata": {},
   "outputs": [],
   "source": [
    "first_edge = g.es[0]"
   ]
  },
  {
   "cell_type": "code",
   "execution_count": null,
   "metadata": {},
   "outputs": [],
   "source": [
    "print(first_edge.source)\n",
    "print(first_edge.target)"
   ]
  },
  {
   "cell_type": "code",
   "execution_count": null,
   "metadata": {},
   "outputs": [],
   "source": [
    "print(g.vs[0]['page_name'])\n",
    "print(g.vs[18427]['page_name'])"
   ]
  },
  {
   "cell_type": "markdown",
   "metadata": {},
   "source": [
    "## Writing a generic graph import method"
   ]
  },
  {
   "cell_type": "code",
   "execution_count": null,
   "metadata": {},
   "outputs": [],
   "source": [
    "def read_csv(csv_path):\n",
    "    ''''\n",
    "    Import a csv file.\n",
    " \n",
    "    :param csv_path: Path to the csv to import.\n",
    "    :return: A list of lists read from the csv.\n",
    "    '''\n",
    " \n",
    "    import csv\n",
    "    import os\n",
    " \n",
    "    assert os.path.exists(csv_path), \\\n",
    "        f'File could not be found at {csv_path}.'\n",
    " \n",
    "    with open(csv_path, 'r', encoding='utf-8') as csv_file:\n",
    "        reader = csv.reader(csv_file)\n",
    "        data = [row for row in reader]\n",
    " \n",
    "    return data"
   ]
  },
  {
   "cell_type": "code",
   "execution_count": null,
   "metadata": {},
   "outputs": [],
   "source": [
    "def add_nodes(g, nodes, attributes):\n",
    "    '''\n",
    "    Add nodes to the graph.\n",
    " \n",
    "    :param g: An igraph Graph() object.\n",
    "    :param nodes: A list of lists containing nodes and node attributes, with a header. The first\n",
    "                  element of each list in nodes should be the node ID.\n",
    "    :param attributes: A list of attributes corresponding to the header (index 0) of the nodes list.\n",
    "                       The names of attributes in this list will be added to the graph.\n",
    "    '''\n",
    " \n",
    "    assert nodes[0][0] == 'id', \\\n",
    "        f'The first column in the imported csv should be the ID header, \"id\". Instead, it '\\\n",
    "        f'is {nodes[0][0]}.'\n",
    " \n",
    "    node_ids = [int(row[0]) for row in nodes[1:]]\n",
    "    assert node_ids == list(range(len(node_ids))), \\\n",
    "        f'Node IDs should increase sequentially in the imported csv, from 0 to the number of'\\\n",
    "        f' nodes-1, {len(node_ids)}.'\n",
    " \n",
    "    assert isinstance(attributes, list), \\\n",
    "        f'Attributes to add to the graph should be a list. Instead attributes is of type'\\\n",
    "        f' {type(attributes)}.'\n",
    " \n",
    "    g.add_vertices(len(node_ids))\n",
    " \n",
    "    headers = nodes[0]\n",
    "    for attribute in attributes:\n",
    "        attr_index = headers.index(attribute)\n",
    "        g.vs[attribute] = [row[attr_index] for row in nodes[1:]]\n",
    " \n",
    "    return g\n"
   ]
  },
  {
   "cell_type": "code",
   "execution_count": null,
   "metadata": {},
   "outputs": [],
   "source": [
    "def add_edges(g, edges):\n",
    "    '''\n",
    "    Add edges to the graph, where nodes are already present.\n",
    " \n",
    "    :param g: An igraph Graph() object.\n",
    "    :param edges: A list of lists containing edges, with a header.\n",
    "    '''\n",
    "    \n",
    "    assert len(edges[0]) == 2, \\\n",
    "        f'Each element in the imported edges csv should be of length 2, representing an edge'\\\n",
    "        f' between two linked nodes. Instead, the first element is of length {len(edges)[0]}.'\n",
    " \n",
    "    edges_to_add = [[int(row[0]), int(row[1])] for row in edges[1:]]\n",
    "    g.add_edges(edges_to_add)\n",
    " \n",
    "    return g\n"
   ]
  },
  {
   "cell_type": "code",
   "execution_count": null,
   "metadata": {},
   "outputs": [],
   "source": [
    "import igraph\n",
    "def graph_from_attributes_and_edgelist(node_attr_csv, edgelist_csv, attributes):\n",
    "    \n",
    "    g = igraph.Graph(directed=False)\n",
    " \n",
    "    nodes = read_csv(node_attr_csv)\n",
    "    edges = read_csv(edgelist_csv)\n",
    " \n",
    "    g = add_nodes(g, nodes, attributes)\n",
    "    g = add_edges(g, edges)\n",
    " \n",
    "    return g"
   ]
  },
  {
   "cell_type": "code",
   "execution_count": null,
   "metadata": {},
   "outputs": [],
   "source": [
    "node_attr_path = './data/musae_facebook_target.csv'\n",
    "edgelist_path = './data/musae_facebook_edges.csv'\n",
    "attributes = ['page_name', 'page_type']\n",
    "# Create a graph from our wrapper functions\n",
    "g = graph_from_attributes_and_edgelist(node_attr_path, edgelist_path, attributes)"
   ]
  },
  {
   "cell_type": "code",
   "execution_count": null,
   "metadata": {},
   "outputs": [],
   "source": [
    "print(g.vs[0]['page_name'])\n",
    "print(g.vs[0]['page_type'])\n",
    "first_edge = g.es[0]\n",
    "print(first_edge.source)\n",
    "print(first_edge.target)\n",
    "print(len(g.es))\n",
    "print(g.vs[0]['page_name'])\n",
    "print(g.vs[18427]['page_name'])\n"
   ]
  },
  {
   "cell_type": "markdown",
   "metadata": {},
   "source": []
  },
  {
   "cell_type": "code",
   "execution_count": null,
   "metadata": {},
   "outputs": [],
   "source": [
    "%%writefile implement_python_model.py\n",
    "\"\"\" \n",
    "Name:       implement_python_model.py\n",
    "Author(s):  Gary Hutson & Matt Jackson on behalf of Packt publishing\n",
    "Date:       09/12/2022\n",
    "Usage:      python implement_python_model.py\n",
    "\"\"\"\n",
    "\n",
    "# Load in data\n",
    "import csv\n",
    "with open('./data/musae_facebook_target.csv', 'r', encoding='utf-8') as csv_file:\n",
    "    reader = csv.reader(csv_file)\n",
    "    data = [line for line in reader]\n",
    "    print(data[:10])\n",
    "    print(len(data))\n",
    "\n",
    "# Adding nodes and attributes\n",
    "node_ids = [int(row[0]) for row in data[1:]]\n",
    "page_names = [row[2] for row in data[1:]]\n",
    "page_types = [row[3] for row in data[1:]]\n",
    "\n",
    "# Check if the nodes ids are with the length of the node ids\n",
    "assert node_ids == list(range(len(node_ids)))\n",
    "\n",
    "# Create the graph\n",
    "import igraph as ig\n",
    "g = ig.Graph(directed=False)\n",
    "g.add_vertices(len(node_ids))\n",
    "\n",
    "print(len(g.vs))\n",
    "assert len(node_ids) == len(g.vs)\n",
    "\n",
    "# Print out the relevant vertex names\n",
    "g.vs['page_name'] = page_names\n",
    "g.vs['page_type'] = page_types\n",
    "print(g.vs[0]['page_name'])\n",
    "print(g.vs[0]['page_type'])\n",
    "\n",
    "# Adding edges - relationships to the graph\n",
    "with open('./data/musae_facebook_edges.csv', 'r') as csv_file_2:\n",
    "\treader = csv.reader(csv_file_2)\n",
    "\tedge_data = [row for row in reader]\n",
    "\tprint(edge_data[:10])\n",
    "\tprint(len(edge_data))\n",
    "\n",
    "edges = [[int(row[0]), int(row[1])] for row in edge_data[1:]]\n",
    "print(edges[:10])\n",
    "g.add_edges(edges)\n",
    "print(len(g.es))\n",
    "\n",
    "first_edge = g.es[0]\n",
    "print(first_edge.source)\n",
    "print(first_edge.target)\n",
    "print(g.vs[0]['page_name'])\n",
    "print(g.vs[18427]['page_name'])\n",
    "\n",
    "# Write a generic import method\n",
    "def read_csv(csv_path):\n",
    "    ''''\n",
    "    Import a csv file.\n",
    " \n",
    "    :param csv_path: Path to the csv to import.\n",
    "    :return: A list of lists read from the csv.\n",
    "    '''\n",
    " \n",
    "    import csv\n",
    "    import os\n",
    " \n",
    "    assert os.path.exists(csv_path), \\\n",
    "        f'File could not be found at {csv_path}.'\n",
    " \n",
    "    with open(csv_path, 'r', encoding='utf-8') as csv_file:\n",
    "        reader = csv.reader(csv_file)\n",
    "        data = [row for row in reader]\n",
    " \n",
    "    return data\n",
    "\n",
    "# Create add nodes method\n",
    "def add_nodes(g, nodes, attributes):\n",
    "    '''\n",
    "    Add nodes to the graph.\n",
    " \n",
    "    :param g: An igraph Graph() object.\n",
    "    :param nodes: A list of lists containing nodes and node attributes, with a header. The first\n",
    "                  element of each list in nodes should be the node ID.\n",
    "    :param attributes: A list of attributes corresponding to the header (index 0) of the nodes list.\n",
    "                       The names of attributes in this list will be added to the graph.\n",
    "    '''\n",
    " \n",
    "    assert nodes[0][0] == 'id', \\\n",
    "        f'The first column in the imported csv should be the ID header, \"id\". Instead, it '\\\n",
    "        f'is {nodes[0][0]}.'\n",
    " \n",
    "    node_ids = [int(row[0]) for row in nodes[1:]]\n",
    "    assert node_ids == list(range(len(node_ids))), \\\n",
    "        f'Node IDs should increase sequentially in the imported csv, from 0 to the number of'\\\n",
    "        f' nodes-1, {len(node_ids)}.'\n",
    " \n",
    "    assert isinstance(attributes, list), \\\n",
    "        f'Attributes to add to the graph should be a list. Instead attributes is of type'\\\n",
    "        f' {type(attributes)}.'\n",
    " \n",
    "    g.add_vertices(len(node_ids))\n",
    " \n",
    "    headers = nodes[0]\n",
    "    for attribute in attributes:\n",
    "        attr_index = headers.index(attribute)\n",
    "        g.vs[attribute] = [row[attr_index] for row in nodes[1:]]\n",
    " \n",
    "    return g\n",
    "\n",
    "# Create add edges method\n",
    "def add_edges(g, edges):\n",
    "    '''\n",
    "    Add edges to the graph, where nodes are already present.\n",
    " \n",
    "    :param g: An igraph Graph() object.\n",
    "    :param edges: A list of lists containing edges, with a header.\n",
    "    '''\n",
    "    \n",
    "    assert len(edges[0]) == 2, \\\n",
    "        f'Each element in the imported edges csv should be of length 2, representing an edge'\\\n",
    "        f' between two linked nodes. Instead, the first element is of length {len(edges)[0]}.'\n",
    " \n",
    "    edges_to_add = [[int(row[0]), int(row[1])] for row in edges[1:]]\n",
    "    g.add_edges(edges_to_add)\n",
    " \n",
    "    return g\n",
    "\n",
    "# Create function to bring this all together\n",
    "import igraph\n",
    "def graph_from_attributes_and_edgelist(node_attr_csv, edgelist_csv, attributes):\n",
    "    \n",
    "    g = igraph.Graph(directed=False)\n",
    " \n",
    "    nodes = read_csv(node_attr_csv)\n",
    "    edges = read_csv(edgelist_csv)\n",
    " \n",
    "    g = add_nodes(g, nodes, attributes)\n",
    "    g = add_edges(g, edges)\n",
    " \n",
    "    return g\n",
    "\n",
    "# Test our new function methods we have created\n",
    "node_attr_path = './data/musae_facebook_target.csv'\n",
    "edgelist_path = './data/musae_facebook_edges.csv'\n",
    "attributes = ['page_name', 'page_type']\n",
    "# Create a graph from our wrapper functions\n",
    "g = graph_from_attributes_and_edgelist(node_attr_path, edgelist_path, attributes)\n",
    "\n",
    "# Compare new method to original graph\n",
    "print(g.vs[0]['page_name'])\n",
    "print(g.vs[0]['page_type'])\n",
    "first_edge = g.es[0]\n",
    "print(first_edge.source)\n",
    "print(first_edge.target)\n",
    "print(len(g.es))\n",
    "print(g.vs[0]['page_name'])\n",
    "print(g.vs[18427]['page_name'])"
   ]
  }
 ],
 "metadata": {
  "kernelspec": {
   "display_name": "Python 3.8.15 ('graph-book')",
   "language": "python",
   "name": "python3"
  },
  "language_info": {
   "codemirror_mode": {
    "name": "ipython",
    "version": 3
   },
   "file_extension": ".py",
   "mimetype": "text/x-python",
   "name": "python",
   "nbconvert_exporter": "python",
   "pygments_lexer": "ipython3",
   "version": "3.8.15"
  },
  "orig_nbformat": 4,
  "vscode": {
   "interpreter": {
    "hash": "0e962125a6bade716827c7cd07d3b7c9b717838910a5075eb32d8b321480d4bb"
   }
  }
 },
 "nbformat": 4,
 "nbformat_minor": 2
}
