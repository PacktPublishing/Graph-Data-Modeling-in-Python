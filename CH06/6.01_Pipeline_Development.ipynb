{
 "cells": [
  {
   "attachments": {},
   "cell_type": "markdown",
   "metadata": {},
   "source": [
    "# Designing a Pipeline"
   ]
  },
  {
   "attachments": {},
   "cell_type": "markdown",
   "metadata": {},
   "source": [
    "To get setup install the recommended packages from the `requirements.txt` file. "
   ]
  },
  {
   "cell_type": "code",
   "execution_count": null,
   "metadata": {},
   "outputs": [],
   "source": [
    "#!pip install -r requirements.txt"
   ]
  },
  {
   "attachments": {},
   "cell_type": "markdown",
   "metadata": {},
   "source": [
    "Refer to the book to cover the chapters on getting the data ingested into the Neo4J instance. This will focus on the Python elements of the process. "
   ]
  },
  {
   "attachments": {},
   "cell_type": "markdown",
   "metadata": {},
   "source": [
    "## Simulating customer interactions"
   ]
  },
  {
   "cell_type": "code",
   "execution_count": null,
   "metadata": {},
   "outputs": [],
   "source": [
    "from faker import Faker\n",
    "\n",
    "fake = Faker()\n",
    "Faker.seed(0)"
   ]
  },
  {
   "cell_type": "code",
   "execution_count": null,
   "metadata": {},
   "outputs": [],
   "source": [
    "name = fake.name()\n",
    "address = fake.address()\n",
    "\n",
    "print(name)\n",
    "print(address)"
   ]
  },
  {
   "attachments": {},
   "cell_type": "markdown",
   "metadata": {},
   "source": [
    "Here we will create a custom class to create some fake information based on the customerID. "
   ]
  },
  {
   "cell_type": "code",
   "execution_count": null,
   "metadata": {},
   "outputs": [],
   "source": [
    "from datetime import datetime\n",
    "\n",
    "class Customer:\n",
    "\tdef __init__(self, customerID):\n",
    "\t\tself.customerID = customerID\n",
    "\t\tself.name = fake.name()\n",
    "\t\tself.address = fake.address()\n",
    "\t\tself.datetime = datetime.now().strftime(\"%d/%m/%Y-%H:%M:%S\")\n",
    "\n",
    "\t# Custom string override (dunder method) to print when print on new customer class is instantiated\n",
    "\tdef __str__(self):\n",
    "\t\treturn f'The customer ID is: {self.customerID}\\nCustoner Name is: {self.name}\\nCustomer address: {self.address}\\nCreated on: {self.datetime}'\n",
    "   "
   ]
  },
  {
   "cell_type": "code",
   "execution_count": null,
   "metadata": {},
   "outputs": [],
   "source": [
    "new_customer = Customer(customerID=9999)\n",
    "print(new_customer)"
   ]
  },
  {
   "attachments": {},
   "cell_type": "markdown",
   "metadata": {},
   "source": [
    "### Create connection to Neo4J instance"
   ]
  },
  {
   "cell_type": "code",
   "execution_count": null,
   "metadata": {},
   "outputs": [],
   "source": [
    "from neo4j import GraphDatabase\n",
    "\n",
    "class Neo4jConnect:\n",
    "\n",
    "    def __init__(self, uri, user, password):\n",
    "        self.driver = GraphDatabase.driver(uri, auth=(user, password))\n",
    "        \n",
    "    def close(self):\n",
    "        self.driver.close()\n",
    "        \n",
    "    def query(self, query):\n",
    "        session = self.driver.session()\n",
    "        result = session.run(query)\n",
    "        return result\n"
   ]
  },
  {
   "attachments": {},
   "cell_type": "markdown",
   "metadata": {},
   "source": [
    "For convenience - this has also been saved into the supporting package we have created. "
   ]
  },
  {
   "cell_type": "code",
   "execution_count": null,
   "metadata": {},
   "outputs": [],
   "source": [
    "from graphtastic.database.neo4j import Neo4jConnect"
   ]
  },
  {
   "attachments": {},
   "cell_type": "markdown",
   "metadata": {},
   "source": [
    "Next we will add customers to our Neo4J instance using the faked data:"
   ]
  },
  {
   "cell_type": "code",
   "execution_count": null,
   "metadata": {},
   "outputs": [],
   "source": [
    "def add_customer(c, connection):\n",
    "    query = f'MERGE (:Customer {{customerID: toInteger({c.customerID}), ' \\\n",
    "    \t\tf'name: \"{c.name}\", ' \\\n",
    "    \t\tf'address: \"{c.address}\"}})'\n",
    "    connection.query(query)\n"
   ]
  },
  {
   "attachments": {},
   "cell_type": "markdown",
   "metadata": {},
   "source": [
    "Test this function out with our faked data. "
   ]
  },
  {
   "cell_type": "code",
   "execution_count": null,
   "metadata": {},
   "outputs": [],
   "source": [
    "test_customer = Customer(9999)\n",
    "connection = Neo4jConnect('bolt://localhost:7687', 'admin', 'testpython')\n",
    "add_customer(test_customer, connection)\n",
    "connection.close()"
   ]
  },
  {
   "attachments": {},
   "cell_type": "markdown",
   "metadata": {},
   "source": [
    "Run this code in Neo4J Browser:"
   ]
  },
  {
   "cell_type": "code",
   "execution_count": null,
   "metadata": {},
   "outputs": [],
   "source": [
    "%%writefile cypher/return_customers.cql\n",
    "MATCH (c:Customer) RETURN c"
   ]
  },
  {
   "cell_type": "code",
   "execution_count": null,
   "metadata": {},
   "outputs": [],
   "source": [
    "def add_purchase(c, productID, time, connection):\n",
    "\tquery = f'MATCH (c:Customer {{customerID: toInteger({c.customerID})}}) ' \\\n",
    "\t\t\tf'MATCH (p:Product {{productID: toInteger({productID})}}) ' \\\n",
    "\t\t\tf'MERGE (c)-[:PURCHASED {{datetime:\"{time}\"}}]->(p)'\n",
    "\tconnection.query(query)\n"
   ]
  },
  {
   "cell_type": "code",
   "execution_count": null,
   "metadata": {},
   "outputs": [],
   "source": [
    "from datetime import datetime\n",
    "\n",
    "connection = Neo4jConnect('bolt://localhost:7687', 'admin', 'testpython')\n",
    "add_purchase(test_customer, 1010, datetime.now(), connection)\n",
    "connection.close()\n"
   ]
  },
  {
   "cell_type": "code",
   "execution_count": null,
   "metadata": {},
   "outputs": [],
   "source": [
    "%%writefile cypher/edge_bt_cust_and_purch_nodes.cql\n",
    "MATCH (c:Customer)-[:PURCHASED]->(p:Product) RETURN c, p"
   ]
  },
  {
   "attachments": {},
   "cell_type": "markdown",
   "metadata": {},
   "source": [
    "Add another purchase to the graph database:"
   ]
  },
  {
   "cell_type": "code",
   "execution_count": null,
   "metadata": {},
   "outputs": [],
   "source": [
    "connection = Neo4jConnect('bolt://localhost:7687', 'admin', 'testpython')\n",
    "add_purchase(test_customer, 1010, datetime.now(), connection)\n",
    "connection.close()"
   ]
  },
  {
   "attachments": {},
   "cell_type": "markdown",
   "metadata": {},
   "source": [
    "This code will save the script we will run in Neo4J Browser:"
   ]
  },
  {
   "cell_type": "code",
   "execution_count": null,
   "metadata": {},
   "outputs": [],
   "source": [
    "%%writefile cypher/get_cust_and_prod.cql\n",
    "MATCH (c:Customer)-[purchase:PURCHASED]->(p:Product) \n",
    "RETURN c.name, p.name, purchase.datetime"
   ]
  },
  {
   "attachments": {},
   "cell_type": "markdown",
   "metadata": {},
   "source": [
    "We will purge out database data with the below Cypher that will be execute in the Neo4J Browser:"
   ]
  },
  {
   "cell_type": "code",
   "execution_count": null,
   "metadata": {},
   "outputs": [],
   "source": [
    "%%writefile cypher/purge_data.cql\n",
    "MATCH (c:Customer) DETACH DELETE c"
   ]
  },
  {
   "cell_type": "code",
   "execution_count": null,
   "metadata": {},
   "outputs": [],
   "source": [
    "def get_product_ids(connection):\n",
    "\tquery = 'MATCH (p:Product) RETURN p.productID as productID'\n",
    "\tresult = connection.query(query).data()\n",
    "\tresult = [product['productID'] for product in result]\n",
    "\treturn result"
   ]
  },
  {
   "cell_type": "code",
   "execution_count": null,
   "metadata": {},
   "outputs": [],
   "source": [
    "connection = Neo4jConnect('bolt://localhost:7687', 'admin', 'testpython')\n",
    "product_ids = get_product_ids(connection)\n",
    "connection.close()\n",
    "print(product_ids)\n",
    "print(len(product_ids))"
   ]
  },
  {
   "attachments": {},
   "cell_type": "markdown",
   "metadata": {},
   "source": [
    "Generate lots of customers:"
   ]
  },
  {
   "cell_type": "code",
   "execution_count": null,
   "metadata": {},
   "outputs": [],
   "source": [
    "customers = [Customer(customerID) for customerID in range(10000, 10100)]"
   ]
  },
  {
   "cell_type": "code",
   "execution_count": null,
   "metadata": {},
   "outputs": [],
   "source": [
    "for customer in customers:\n",
    "    connection = Neo4jConnect('bolt://localhost:7687', 'admin', 'testpython')\n",
    "    add_customer(customer, connection)\n",
    "    connection.close()"
   ]
  },
  {
   "cell_type": "code",
   "execution_count": null,
   "metadata": {},
   "outputs": [],
   "source": [
    "import random\n",
    "\n",
    "for customer in customers:\n",
    "    # Print out the customer and add a line print for \n",
    "    print(customer, '\\n----------------------------------------------------')\n",
    "    product = random.choice(product_ids)\n",
    "    connection = Neo4jConnect('bolt://localhost:7687', 'admin', 'testpython')\n",
    "    add_purchase(customer, product, datetime.now(), connection)\n",
    "    connection.close()"
   ]
  },
  {
   "cell_type": "code",
   "execution_count": null,
   "metadata": {},
   "outputs": [],
   "source": [
    "from time import sleep\n",
    "sleep(1)"
   ]
  },
  {
   "attachments": {},
   "cell_type": "markdown",
   "metadata": {},
   "source": [
    "# Making Recommendations"
   ]
  },
  {
   "cell_type": "code",
   "execution_count": null,
   "metadata": {},
   "outputs": [],
   "source": [
    "def rec_by_brand(c, connection):\n",
    "    query = f'MATCH (c:Customer {{customerID: toInteger({c.customerID})}})' \\\n",
    "            '-[:PURCHASED]->(p:Product)' \\\n",
    "            'MATCH (p)-[:HAS_BRAND]->(b:Brand)' \\\n",
    "            'MATCH (b)<-[:HAS_BRAND]-(r:Product)' \\\n",
    "            'WHERE NOT (c)-[:PURCHASED]->(r)' \\\n",
    "            'RETURN DISTINCT r.productID as productID'\n",
    "    \n",
    "    result = connection.query(query).data()\n",
    "    result = [product['productID'] for product in result]\n",
    "\n",
    "\n",
    "    return result"
   ]
  },
  {
   "cell_type": "code",
   "execution_count": null,
   "metadata": {},
   "outputs": [],
   "source": [
    "connection = Neo4jConnect('bolt://localhost:7687', 'admin', 'testpython')\n",
    "print(connection)"
   ]
  },
  {
   "cell_type": "code",
   "execution_count": null,
   "metadata": {},
   "outputs": [],
   "source": [
    "brand_recommendations = rec_by_brand(customers[10], connection)\n",
    "connection.close()\n",
    "print(brand_recommendations)"
   ]
  },
  {
   "attachments": {},
   "cell_type": "markdown",
   "metadata": {},
   "source": [
    "Use the Cypher in Neo4J Browser to get the results:"
   ]
  },
  {
   "cell_type": "code",
   "execution_count": null,
   "metadata": {},
   "outputs": [],
   "source": [
    "%%writefile cypher/cust_brand_prod.cql\n",
    "MATCH (c:Customer {customerID:10010})-[:PURCHASED]->(p:Product)\n",
    "MATCH (p)-[:HAS_BRAND]->(b:Brand)\n",
    "MATCH (b)<-[:HAS_BRAND]-(r:Product)\n",
    "WHERE NOT (c)-[:PURCHASED]->(r)\n",
    "RETURN c, p, b, r"
   ]
  },
  {
   "cell_type": "code",
   "execution_count": null,
   "metadata": {},
   "outputs": [],
   "source": [
    "for customer in customers:\n",
    "    connection = Neo4jConnect('bolt://localhost:7687', 'admin', 'testpython')\n",
    "    brand_recommendations = rec_by_brand(customer, connection)\n",
    "    connection.close()\n",
    "    if len(brand_recommendations) != 0:\n",
    "        product = random.choice(brand_recommendations)\n",
    "        connection = Neo4jConnect('bolt://localhost:7687', 'admin', 'testpython')\n",
    "        add_purchase(customer, product, datetime.now(), connection)\n",
    "        connection.close()\n"
   ]
  },
  {
   "attachments": {},
   "cell_type": "markdown",
   "metadata": {},
   "source": [
    "Execute cypher to see if this has worked correctly:"
   ]
  },
  {
   "cell_type": "code",
   "execution_count": null,
   "metadata": {},
   "outputs": [],
   "source": [
    "%%writefile cypher/distinct_product_match.cql\n",
    "MATCH (c:Customer {customerID:10010})-[:PURCHASED]->(p:Product)\n",
    "MATCH (p)-[:HAS_TYPE]->(st:Type)\n",
    "MATCH (p)-[:HAS_BRAND]->(b:Brand)\n",
    "MATCH (b)<-[:HAS_BRAND]-(r:Product)\n",
    "WHERE NOT (c)-[:PURCHASED]->(r) AND (r)-[:HAS_TYPE]->(st)\n",
    "RETURN DISTINCT r\n"
   ]
  },
  {
   "attachments": {},
   "cell_type": "markdown",
   "metadata": {},
   "source": [
    "## Drawing on other customers purchases"
   ]
  },
  {
   "cell_type": "code",
   "execution_count": null,
   "metadata": {},
   "outputs": [],
   "source": [
    "def rec_by_copurchase(c, connection):\n",
    "    query = f'MATCH (c:Customer {{customerID: toInteger({c.customerID})}})' \\\n",
    "            '-[:PURCHASED]->(p:Product)' \\\n",
    "            'MATCH (p)<-[:PURCHASED]-(c2:Customer)' \\\n",
    "            'WHERE c2 <> c ' \\\n",
    "            'MATCH (c2)-[:PURCHASED]->(r:Product)' \\\n",
    "            'WHERE p <> r ' \\\n",
    "            'RETURN DISTINCT r.productID as productID'\n",
    "    result = connection.query(query).data()\n",
    "    result = [product['productID'] for product in result]\n",
    "    return result"
   ]
  },
  {
   "cell_type": "code",
   "execution_count": null,
   "metadata": {},
   "outputs": [],
   "source": [
    "connection = Neo4jConnect('bolt://localhost:7687', 'admin', 'testpython')\n",
    "copurchase_recommendations = rec_by_copurchase(customers[10], connection)\n",
    "connection.close()\n",
    "print(copurchase_recommendations)"
   ]
  },
  {
   "cell_type": "code",
   "execution_count": null,
   "metadata": {},
   "outputs": [],
   "source": [
    "for customer in customers:\n",
    "    connection = Neo4jConnect('bolt://localhost:7687', 'admin', 'testpython')\n",
    "    copurchase_recommendations = rec_by_copurchase(customer, connection)\n",
    "    connection.close()\n",
    "    if len(copurchase_recommendations) != 0:\n",
    "        product = random.choice(copurchase_recommendations)\n",
    "        connection = Neo4jConnect('bolt://localhost:7687', 'admin', 'testpython')\n",
    "        add_purchase(customer, product, datetime.now(), connection)\n",
    "        connection.close()\n"
   ]
  },
  {
   "attachments": {},
   "cell_type": "markdown",
   "metadata": {},
   "source": [
    "## Using similarity scores to recommend products"
   ]
  },
  {
   "cell_type": "code",
   "execution_count": null,
   "metadata": {},
   "outputs": [],
   "source": [
    "def get_customer_purchases(c_id, connection):\n",
    "    query = f'MATCH (c:Customer {{customerID: toInteger({c_id})}})' \\\n",
    "            '-[:PURCHASED]->(p:Product)' \\\n",
    "            'RETURN DISTINCT p.productID as productID'\n",
    "    result = connection.query(query).data()\n",
    "    result = [product['productID'] for product in result]\n",
    "    return result"
   ]
  },
  {
   "cell_type": "code",
   "execution_count": null,
   "metadata": {},
   "outputs": [],
   "source": [
    "connection = Neo4jConnect('bolt://localhost:7687', 'admin', 'testpython')\n",
    "purchases = get_customer_purchases(customers[10].customerID, connection)\n",
    "connection.close()\n",
    "print(purchases)"
   ]
  },
  {
   "attachments": {},
   "cell_type": "markdown",
   "metadata": {},
   "source": [
    "This code to be run in `Neo4J Browser`:"
   ]
  },
  {
   "cell_type": "code",
   "execution_count": null,
   "metadata": {},
   "outputs": [],
   "source": [
    "%%writefile cypher/cust_purchases.cql\n",
    "MATCH (c:Customer {customerID:10010})-[:PURCHASED]-(p:Product)\n",
    "RETURN DISTINCT p.productID as productID"
   ]
  },
  {
   "cell_type": "code",
   "execution_count": null,
   "metadata": {},
   "outputs": [],
   "source": [
    "connection = Neo4jConnect('bolt://localhost:7687', 'admin', 'testpython')\n",
    "all_purchases = {customer.customerID: get_customer_purchases(customer.customerID, connection) \n",
    "                 for customer in customers}"
   ]
  },
  {
   "cell_type": "code",
   "execution_count": null,
   "metadata": {},
   "outputs": [],
   "source": [
    "print(all_purchases)"
   ]
  },
  {
   "cell_type": "code",
   "execution_count": null,
   "metadata": {},
   "outputs": [],
   "source": [
    "def jaccard_similarity(list1, list2):\n",
    "    set1 = set(list1)\n",
    "    set2 = set(list2)\n",
    "    intersection = set1.intersection(set2)\n",
    "    union = set1.union(set2)\n",
    "    jaccard = len(intersection) / len(union)\n",
    "    return jaccard"
   ]
  },
  {
   "cell_type": "code",
   "execution_count": null,
   "metadata": {},
   "outputs": [],
   "source": [
    "list1 = [1, 2, 3, 4]\n",
    "list2 = [5, 6, 7, 8]\n",
    "list3 = [1, 2]\n",
    "assert jaccard_similarity(list1, list1) == 1\n",
    "assert jaccard_similarity(list1, list2) == 0\n",
    "assert jaccard_similarity(list1, list3) == 0.5"
   ]
  },
  {
   "cell_type": "code",
   "execution_count": null,
   "metadata": {},
   "outputs": [],
   "source": [
    "import itertools\n",
    "customer_ids = list(all_purchases.keys())\n",
    "print(customer_ids)\n",
    "customer_pairs = list(itertools.combinations(customer_ids, 2))\n",
    "print(customer_pairs[:10])"
   ]
  },
  {
   "cell_type": "code",
   "execution_count": null,
   "metadata": {},
   "outputs": [],
   "source": [
    "similarity = {pair: jaccard_similarity(all_purchases[pair[0]], all_purchases[pair[1]]) for pair in customer_pairs}\n",
    "print(similarity)"
   ]
  },
  {
   "cell_type": "code",
   "execution_count": null,
   "metadata": {},
   "outputs": [],
   "source": [
    "from collections import Counter\n",
    "grouped_similiarities = Counter(similarity.values())\n",
    "print(grouped_similiarities)"
   ]
  },
  {
   "cell_type": "code",
   "execution_count": null,
   "metadata": {},
   "outputs": [],
   "source": [
    "def add_purchase_id(c_id, productID, time, connection):\n",
    "\tquery = f'MATCH (c:Customer {{customerID: toInteger({c_id})}}) ' \\\n",
    "\t\t\tf'MATCH (p:Product {{productID: toInteger({productID})}}) ' \\\n",
    "\t\t\tf'MERGE (c)-[:PURCHASED {{datetime:\"{time}\"}}]->(p)'\n",
    "\tconnection.query(query)"
   ]
  },
  {
   "cell_type": "code",
   "execution_count": null,
   "metadata": {},
   "outputs": [],
   "source": [
    "threshold = 0.7"
   ]
  },
  {
   "cell_type": "code",
   "execution_count": null,
   "metadata": {},
   "outputs": [],
   "source": [
    "def rec_by_similarity(c1, c2, threshold, connection):\n",
    "    p1 = get_customer_purchases(c1, connection)\n",
    "    p2 = get_customer_purchases(c2, connection)\n",
    "    similarity = jaccard_similarity(p1, p2)\n",
    "    if similarity >= threshold and similarity != 1:\n",
    "        p1_recs = [p for p in p2 if p not in p1]\n",
    "        p2_recs = [p for p in p1 if p not in p2]\n",
    "        for p in p1_recs:\n",
    "            add_purchase_id(c1, p, datetime.now(), connection)\n",
    "        for p in p2_recs:\n",
    "            add_purchase_id(c2, p, datetime.now(), connection)"
   ]
  },
  {
   "cell_type": "code",
   "execution_count": null,
   "metadata": {},
   "outputs": [],
   "source": [
    "for pair in customer_pairs:\n",
    "    connection = Neo4jConnect('bolt://localhost:7687', 'admin', 'testpython')\n",
    "    rec_by_similarity(pair[0], pair[1], 0.7, connection)\n",
    "    connection.close()"
   ]
  },
  {
   "attachments": {},
   "cell_type": "markdown",
   "metadata": {},
   "source": [
    "## Complete Python script"
   ]
  },
  {
   "cell_type": "code",
   "execution_count": null,
   "metadata": {},
   "outputs": [],
   "source": [
    "%%writefile pipeline_dev.py\n",
    "from faker import Faker\n",
    "from datetime import datetime\n",
    "from graphtastic.database.neo4j import Neo4jConnect\n",
    "import random\n",
    "\n",
    "# Fake some data\n",
    "fake = Faker()\n",
    "Faker.seed(0)\n",
    "# Get faker atrributes\n",
    "name = fake.name()\n",
    "address = fake.address()\n",
    "print(name)\n",
    "print(address)\n",
    "\n",
    "# Create a class we will use to generate new customers\n",
    "class Customer:\n",
    "\tdef __init__(self, customerID):\n",
    "\t\tself.customerID = customerID\n",
    "\t\tself.name = fake.name()\n",
    "\t\tself.address = fake.address()\n",
    "\t\tself.datetime = datetime.now().strftime(\"%d/%m/%Y-%H:%M:%S\")\n",
    "\n",
    "\t# Custom string override (dunder method) to print when print on new customer class is instantiated\n",
    "\tdef __str__(self):\n",
    "\t\treturn f'The customer ID is: {self.customerID}\\nCustoner Name is: {self.name}\\nCustomer address: {self.address}\\nCreated on: {self.datetime}'\n",
    "   \n",
    "\n",
    "# Instantiate customer\n",
    "new_customer = Customer(customerID=9999)\n",
    "print(new_customer)\n",
    "\n",
    "# Create add customer function\n",
    "def add_customer(c, connection):\n",
    "    query = f'MERGE (:Customer {{customerID: toInteger({c.customerID}), ' \\\n",
    "    \t\tf'name: \"{c.name}\", ' \\\n",
    "    \t\tf'address: \"{c.address}\"}})'\n",
    "    connection.query(query)\n",
    "\n",
    "# Create customer in Neo4J\n",
    "test_customer = Customer(9999)\n",
    "connection = Neo4jConnect('bolt://localhost:7687', 'admin', 'testpython')\n",
    "add_customer(test_customer, connection)\n",
    "connection.close()\n",
    "\n",
    "# Create function to add a purchase to Neo4J\n",
    "def add_purchase(c, productID, time, connection):\n",
    "\tquery = f'MATCH (c:Customer {{customerID: toInteger({c.customerID})}}) ' \\\n",
    "\t\t\tf'MATCH (p:Product {{productID: toInteger({productID})}}) ' \\\n",
    "\t\t\tf'MERGE (c)-[:PURCHASED {{datetime:\"{time}\"}}]->(p)'\n",
    "\tconnection.query(query)\n",
    "\n",
    "# Use add purchase to add purchases for our test customer\n",
    "connection = Neo4jConnect('bolt://localhost:7687', 'admin', 'testpython')\n",
    "add_purchase(test_customer, 1010, datetime.now(), connection)\n",
    "connection.close()\n",
    "\n",
    "# Add another purchase\n",
    "connection = Neo4jConnect('bolt://localhost:7687', 'admin', 'testpython')\n",
    "add_purchase(test_customer, 1010, datetime.now(), connection)\n",
    "connection.close()\n",
    "\n",
    "# Create function to get product ids\n",
    "def get_product_ids(connection):\n",
    "\tquery = 'MATCH (p:Product) RETURN p.productID as productID'\n",
    "\tresult = connection.query(query).data()\n",
    "\tresult = [product['productID'] for product in result]\n",
    "\treturn result\n",
    "\n",
    "# Get product IDS from Neo4J\n",
    "connection = Neo4jConnect('bolt://localhost:7687', 'admin', 'testpython')\n",
    "product_ids = get_product_ids(connection)\n",
    "connection.close()\n",
    "print(product_ids)\n",
    "print(len(product_ids))\n",
    "\n",
    "# Generate lots of customers\n",
    "customers = [Customer(customerID) for customerID in range(10000, 10100)]\n",
    "for customer in customers:\n",
    "    connection = Neo4jConnect('bolt://localhost:7687', 'admin', 'testpython')\n",
    "    add_customer(customer, connection)\n",
    "    connection.close()\n",
    "\n",
    "# Create purchases at random for our customers\n",
    "for customer in customers:\n",
    "    # Print out the customer and add a line print for \n",
    "    print(customer, '\\n----------------------------------------------------')\n",
    "    product = random.choice(product_ids)\n",
    "    connection = Neo4jConnect('bolt://localhost:7687', 'admin', 'testpython')\n",
    "    add_purchase(customer, product, datetime.now(), connection)\n",
    "    connection.close()\n",
    "\n",
    "# MAKING RECOMMENDATIONS\n",
    "def rec_by_brand(c, connection):\n",
    "    query = f'MATCH (c:Customer {{customerID: toInteger({c.customerID})}})' \\\n",
    "            '-[:PURCHASED]->(p:Product)' \\\n",
    "            'MATCH (p)-[:HAS_BRAND]->(b:Brand)' \\\n",
    "            'MATCH (b)<-[:HAS_BRAND]-(r:Product)' \\\n",
    "            'WHERE NOT (c)-[:PURCHASED]->(r)' \\\n",
    "            'RETURN DISTINCT r.productID as productID'\n",
    "    \n",
    "    result = connection.query(query).data()\n",
    "    result = [product['productID'] for product in result]\n",
    "    return result\n",
    "\n",
    "connection = Neo4jConnect('bolt://localhost:7687', 'admin', 'testpython')\n",
    "print(connection)\n",
    "\n",
    "# Use function to get recommendations by brand\n",
    "brand_recommendations = rec_by_brand(customers[10], connection)\n",
    "connection.close()\n",
    "print(brand_recommendations)\n",
    "\n",
    "for customer in customers:\n",
    "    connection = Neo4jConnect('bolt://localhost:7687', 'admin', 'testpython')\n",
    "    brand_recommendations = rec_by_brand(customer, connection)\n",
    "    connection.close()\n",
    "    if len(brand_recommendations) != 0:\n",
    "        product = random.choice(brand_recommendations)\n",
    "        connection = Neo4jConnect('bolt://localhost:7687', 'admin', 'testpython')\n",
    "        add_purchase(customer, product, datetime.now(), connection)\n",
    "        connection.close()\n",
    "\n",
    "# Drawing on other customers purchases\n",
    "def rec_by_copurchase(c, connection):\n",
    "    query = f'MATCH (c:Customer {{customerID: toInteger({c.customerID})}})' \\\n",
    "            '-[:PURCHASED]->(p:Product)' \\\n",
    "            'MATCH (p)<-[:PURCHASED]-(c2:Customer)' \\\n",
    "            'WHERE c2 <> c ' \\\n",
    "            'MATCH (c2)-[:PURCHASED]->(r:Product)' \\\n",
    "            'WHERE p <> r ' \\\n",
    "            'RETURN DISTINCT r.productID as productID'\n",
    "    result = connection.query(query).data()\n",
    "    result = [product['productID'] for product in result]\n",
    "    return result\n",
    "\n",
    "# Look at recommending products based on other customers recommendations\n",
    "connection = Neo4jConnect('bolt://localhost:7687', 'admin', 'testpython')\n",
    "copurchase_recommendations = rec_by_copurchase(customers[10], connection)\n",
    "connection.close()\n",
    "print(copurchase_recommendations)\n",
    "\n",
    "for customer in customers:\n",
    "    connection = Neo4jConnect('bolt://localhost:7687', 'admin', 'testpython')\n",
    "    copurchase_recommendations = rec_by_copurchase(customer, connection)\n",
    "    connection.close()\n",
    "    if len(copurchase_recommendations) != 0:\n",
    "        product = random.choice(copurchase_recommendations)\n",
    "        connection = Neo4jConnect('bolt://localhost:7687', 'admin', 'testpython')\n",
    "        add_purchase(customer, product, datetime.now(), connection)\n",
    "        connection.close()\n",
    "\n",
    "# Use similarity scores to recommend products\n",
    "def get_customer_purchases(c_id, connection):\n",
    "    query = f'MATCH (c:Customer {{customerID: toInteger({c_id})}})' \\\n",
    "            '-[:PURCHASED]->(p:Product)' \\\n",
    "            'RETURN DISTINCT p.productID as productID'\n",
    "    result = connection.query(query).data()\n",
    "    result = [product['productID'] for product in result]\n",
    "    return result\n",
    "\n",
    "connection = Neo4jConnect('bolt://localhost:7687', 'admin', 'testpython')\n",
    "purchases = get_customer_purchases(customers[10].customerID, connection)\n",
    "connection.close()\n",
    "print(purchases)\n",
    "\n",
    "connection = Neo4jConnect('bolt://localhost:7687', 'admin', 'testpython')\n",
    "all_purchases = {customer.customerID: get_customer_purchases(customer.customerID, connection) \n",
    "                 for customer in customers}\n",
    "\n",
    "print(all_purchases)\n",
    "\n",
    "# Create Jaccard similarity to look at similar purchases\n",
    "def jaccard_similarity(list1, list2):\n",
    "    set1 = set(list1)\n",
    "    set2 = set(list2)\n",
    "    intersection = set1.intersection(set2)\n",
    "    union = set1.union(set2)\n",
    "    jaccard = len(intersection) / len(union)\n",
    "    return jaccard\n",
    "\n",
    "list1 = [1, 2, 3, 4]\n",
    "list2 = [5, 6, 7, 8]\n",
    "list3 = [1, 2]\n",
    "assert jaccard_similarity(list1, list1) == 1\n",
    "assert jaccard_similarity(list1, list2) == 0\n",
    "assert jaccard_similarity(list1, list3) == 0.5\n",
    "\n",
    "import itertools\n",
    "customer_ids = list(all_purchases.keys())\n",
    "print(customer_ids)\n",
    "customer_pairs = list(itertools.combinations(customer_ids, 2))\n",
    "print(customer_pairs[:10])\n",
    "\n",
    "# Get similarity\n",
    "similarity = {pair: jaccard_similarity(all_purchases[pair[0]], all_purchases[pair[1]]) for pair in customer_pairs}\n",
    "print(similarity)\n",
    "\n",
    "from collections import Counter\n",
    "grouped_similiarities = Counter(similarity.values())\n",
    "print(grouped_similiarities)\n",
    "\n",
    "def add_purchase_id(c_id, productID, time, connection):\n",
    "\tquery = f'MATCH (c:Customer {{customerID: toInteger({c_id})}}) ' \\\n",
    "\t\t\tf'MATCH (p:Product {{productID: toInteger({productID})}}) ' \\\n",
    "\t\t\tf'MERGE (c)-[:PURCHASED {{datetime:\"{time}\"}}]->(p)'\n",
    "\tconnection.query(query)\n",
    "\n",
    "threshold = 0.7\n",
    "\n",
    "def rec_by_similarity(c1, c2, threshold, connection):\n",
    "    p1 = get_customer_purchases(c1, connection)\n",
    "    p2 = get_customer_purchases(c2, connection)\n",
    "    similarity = jaccard_similarity(p1, p2)\n",
    "    if similarity >= threshold and similarity != 1:\n",
    "        p1_recs = [p for p in p2 if p not in p1]\n",
    "        p2_recs = [p for p in p1 if p not in p2]\n",
    "        for p in p1_recs:\n",
    "            add_purchase_id(c1, p, datetime.now(), connection)\n",
    "        for p in p2_recs:\n",
    "            add_purchase_id(c2, p, datetime.now(), connection)\n",
    "\n",
    "for pair in customer_pairs:\n",
    "    connection = Neo4jConnect('bolt://localhost:7687', 'admin', 'testpython')\n",
    "    rec_by_similarity(pair[0], pair[1], 0.7, connection)\n",
    "    connection.close()"
   ]
  }
 ],
 "metadata": {
  "kernelspec": {
   "display_name": "graph-book",
   "language": "python",
   "name": "python3"
  },
  "language_info": {
   "codemirror_mode": {
    "name": "ipython",
    "version": 3
   },
   "file_extension": ".py",
   "mimetype": "text/x-python",
   "name": "python",
   "nbconvert_exporter": "python",
   "pygments_lexer": "ipython3",
   "version": "3.8.15"
  },
  "orig_nbformat": 4,
  "vscode": {
   "interpreter": {
    "hash": "0e962125a6bade716827c7cd07d3b7c9b717838910a5075eb32d8b321480d4bb"
   }
  }
 },
 "nbformat": 4,
 "nbformat_minor": 2
}
