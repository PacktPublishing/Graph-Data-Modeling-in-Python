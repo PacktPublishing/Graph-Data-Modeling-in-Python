{
 "cells": [
  {
   "attachments": {},
   "cell_type": "markdown",
   "metadata": {},
   "source": [
    "# Perfect projections"
   ]
  },
  {
   "cell_type": "code",
   "execution_count": null,
   "metadata": {},
   "outputs": [],
   "source": [
    "#!pip install -r requirements.txt"
   ]
  },
  {
   "attachments": {},
   "cell_type": "markdown",
   "metadata": {},
   "source": [
    "## How to use a projection"
   ]
  },
  {
   "cell_type": "code",
   "execution_count": null,
   "metadata": {},
   "outputs": [],
   "source": [
    "import csv\n",
    "with open('./data/movie.csv', 'r') as c:\n",
    "    reader = csv.reader(c)\n",
    "    data = [line for line in reader]\n",
    "\n",
    "print(len(data))"
   ]
  },
  {
   "cell_type": "code",
   "execution_count": null,
   "metadata": {},
   "outputs": [],
   "source": [
    "edge_types = set([triple[1] for triple in data])\n",
    "print(edge_types)"
   ]
  },
  {
   "attachments": {},
   "cell_type": "markdown",
   "metadata": {},
   "source": [
    "Head over to Neo4J browser to create an index:"
   ]
  },
  {
   "cell_type": "code",
   "execution_count": null,
   "metadata": {},
   "outputs": [],
   "source": [
    "%%writefile cypher/create_index.cql\n",
    "CREATE INDEX entity \n",
    "FOR (e:Entity)\n",
    "ON (e.name)"
   ]
  },
  {
   "cell_type": "code",
   "execution_count": null,
   "metadata": {},
   "outputs": [],
   "source": [
    "%%writefile cypher/create_rel_apoc.cql\n",
    ":auto LOAD CSV FROM 'file:///movie.csv' AS row\n",
    "CALL {\n",
    "    WITH row\n",
    "    MERGE (n:Entity {name:row[0]})\n",
    "    MERGE (m:Entity {name:row[2]})\n",
    "    WITH n, m, row[1] as type\n",
    "    CALL apoc.create.relationship(n, type, {}, m)\n",
    "    YIELD rel\n",
    "    RETURN 1 as x\n",
    "} IN TRANSACTIONS OF 1000 ROWS\n",
    "RETURN x"
   ]
  },
  {
   "cell_type": "code",
   "execution_count": null,
   "metadata": {},
   "outputs": [],
   "source": [
    "%%writefile cypher/edge_match.cql\n",
    "MATCH (n:Entity {name:'002 Operazione Luna'})-[:COUNTRY]-(m:Entity {name:'Italy'})\n",
    "RETURN n, m"
   ]
  },
  {
   "attachments": {},
   "cell_type": "markdown",
   "metadata": {},
   "source": [
    "## Creating a projection in igraph"
   ]
  },
  {
   "cell_type": "code",
   "execution_count": null,
   "metadata": {},
   "outputs": [],
   "source": [
    "from graphtastic.database.neo4j import Neo4jConnect"
   ]
  },
  {
   "attachments": {},
   "cell_type": "markdown",
   "metadata": {},
   "source": [
    "Head to Neo4j browser:"
   ]
  },
  {
   "cell_type": "code",
   "execution_count": null,
   "metadata": {},
   "outputs": [],
   "source": [
    "%%writefile cypher/starred_in_rel.cql\n",
    "MATCH (act1:Entity)<-[:STARRING]-(film:Entity)-[:STARRING]->(act2:Entity)\n",
    "RETURN act1, film, act2 LIMIT 1"
   ]
  },
  {
   "cell_type": "code",
   "execution_count": null,
   "metadata": {},
   "outputs": [],
   "source": [
    "def get_co_stars_neo4j(connection):\n",
    "    query = 'MATCH (act1:Entity)<-[:STARRING]-(film:Entity)'  \\\n",
    "            '-[:STARRING]->(act2:Entity)  '  \\\n",
    "            'RETURN act1, act2'\n",
    "            \n",
    "    result = connection.query(query).data()\n",
    "    result = [[act['act1']['name'], act['act2']['name']] for act in result]\n",
    "\n",
    "\n",
    "    return result"
   ]
  },
  {
   "cell_type": "code",
   "execution_count": null,
   "metadata": {},
   "outputs": [],
   "source": [
    "connection = Neo4jConnect('bolt://localhost:7687', 'admin', 'testpython')\n",
    "print(connection)"
   ]
  },
  {
   "cell_type": "code",
   "execution_count": null,
   "metadata": {},
   "outputs": [],
   "source": [
    "co_stars = get_co_stars_neo4j(connection)\n",
    "connection.close()\n",
    "print(co_stars[:5])"
   ]
  },
  {
   "cell_type": "code",
   "execution_count": null,
   "metadata": {},
   "outputs": [],
   "source": [
    "nodes = list(set([node for edge in co_stars for node in edge]))"
   ]
  },
  {
   "cell_type": "code",
   "execution_count": null,
   "metadata": {},
   "outputs": [],
   "source": [
    "igraph_ids = {film:node_id for node_id, film in enumerate(nodes)}\n",
    "print(igraph_ids)"
   ]
  },
  {
   "cell_type": "code",
   "execution_count": null,
   "metadata": {},
   "outputs": [],
   "source": [
    "edgelist = [[igraph_ids[n], igraph_ids[m]] for n, m in co_stars]"
   ]
  },
  {
   "cell_type": "code",
   "execution_count": null,
   "metadata": {},
   "outputs": [],
   "source": [
    "import igraph\n",
    "g = igraph.Graph()\n",
    "g.add_vertices(len(igraph_ids))\n",
    "g.add_edges(edgelist)\n",
    "g.vs['actor'] = nodes"
   ]
  },
  {
   "cell_type": "code",
   "execution_count": null,
   "metadata": {},
   "outputs": [],
   "source": [
    "assert g.vs[2]['actor'] == nodes[2]\n",
    "assert len(g.vs) == len(nodes)"
   ]
  },
  {
   "cell_type": "code",
   "execution_count": null,
   "metadata": {},
   "outputs": [],
   "source": [
    "actor1 = g.vs[g.es[0].source]['actor']\n",
    "actor2 = g.vs[g.es[0].target]['actor']"
   ]
  },
  {
   "cell_type": "code",
   "execution_count": null,
   "metadata": {},
   "outputs": [],
   "source": [
    "connection = Neo4jConnect('bolt://localhost:7687', 'admin', 'testpython')\n",
    "query = f'MATCH (act1:Entity {{name:\"{actor1}\"}})' \\\n",
    "         '<-[:STARRING]-(film:Entity)' \\\n",
    "        f'-[:STARRING]->(act2:Entity {{name:\"{actor2}\"}}) ' \\\n",
    "         'RETURN act1, film, act2'\n",
    "result = connection.query(query).data()\n",
    "connection.close()\n",
    "print(result)"
   ]
  },
  {
   "attachments": {},
   "cell_type": "markdown",
   "metadata": {},
   "source": [
    "## Creating a projection in Neo4j"
   ]
  },
  {
   "cell_type": "code",
   "execution_count": null,
   "metadata": {},
   "outputs": [],
   "source": [
    "%%writefile cypher/create_film_index.cql\n",
    "​​CREATE INDEX film\n",
    "FOR (f:Film)\n",
    "ON f.name"
   ]
  },
  {
   "cell_type": "code",
   "execution_count": null,
   "metadata": {},
   "outputs": [],
   "source": [
    "%%writefile cypher/periodic_iterate.cql\n",
    "CALL apoc.periodic.iterate(\n",
    "    \"MATCH (film1:Entity)-[:STARRING]->(actor:Entity)\n",
    "     <-[:STARRING]-(film2:Entity) \n",
    "     RETURN film1, film2\",\n",
    "    \"MERGE (f1:Film {name:film1.name})\n",
    "     MERGE (f2:Film {name:film2.name})\n",
    "     MERGE (f1)-[:HAS_COMMON_ACTORS]->(f2)\",\n",
    "    {batchSize:1000, parallel:false}\n",
    ")"
   ]
  },
  {
   "cell_type": "code",
   "execution_count": null,
   "metadata": {},
   "outputs": [],
   "source": [
    "%%writefile cypher/period_it_parallel.cql\n",
    "CALL apoc.periodic.iterate(\n",
    "    \"MATCH (film:Entity)-[:COUNTRY]->(country:Entity) \n",
    "     RETURN film, country\",\n",
    "    \"MATCH (f:Film {name:film.name})\n",
    "     SET f.country = coalesce(f.country, []) + country.name\",\n",
    "    {batchSize:10000, parallel:true}\n",
    ")"
   ]
  },
  {
   "cell_type": "code",
   "execution_count": null,
   "metadata": {},
   "outputs": [],
   "source": [
    "%%writefile cypher/remove_nodes_and_edges.cql\n",
    "CALL apoc.periodic.iterate(\"\n",
    "    MATCH (f:Film) RETURN f\",\n",
    "    \"DETACH DELETE f\", \n",
    "    {batchSize:1000, parallel:false}\n",
    ")"
   ]
  },
  {
   "attachments": {},
   "cell_type": "markdown",
   "metadata": {},
   "source": [
    "## Putting the projection to work"
   ]
  },
  {
   "attachments": {},
   "cell_type": "markdown",
   "metadata": {},
   "source": [
    "### Analyzing the *igraph* actor projection"
   ]
  },
  {
   "cell_type": "code",
   "execution_count": null,
   "metadata": {},
   "outputs": [],
   "source": [
    "print(len(g.vs))\n",
    "print(len(g.es))"
   ]
  },
  {
   "cell_type": "code",
   "execution_count": null,
   "metadata": {},
   "outputs": [],
   "source": [
    "degree = g.degree(igraph_ids.values())"
   ]
  },
  {
   "cell_type": "code",
   "execution_count": null,
   "metadata": {},
   "outputs": [],
   "source": [
    "import matplotlib.pyplot as plt\n",
    "plt.hist(g.degree(), bins=20, edgecolor='#1260CC', color='#3A9BDC')\n",
    "plt.xlabel('Node degree')\n",
    "plt.ylabel('Frequency')\n",
    "plt.yscale('log')\n",
    "plt.show()"
   ]
  },
  {
   "cell_type": "code",
   "execution_count": null,
   "metadata": {},
   "outputs": [],
   "source": [
    "actor_degree = list(zip(degree, g.vs['actor']))\n",
    "actor_degree = sorted(actor_degree, key=lambda x: x[0], reverse=True)\n",
    "print(actor_degree[:3])"
   ]
  },
  {
   "attachments": {},
   "cell_type": "markdown",
   "metadata": {},
   "source": [
    "## Exploring connected components"
   ]
  },
  {
   "cell_type": "code",
   "execution_count": null,
   "metadata": {},
   "outputs": [],
   "source": [
    "cc = g.components(mode='weak')\n",
    "print(len(cc))"
   ]
  },
  {
   "cell_type": "code",
   "execution_count": null,
   "metadata": {},
   "outputs": [],
   "source": [
    "cc_size = [len(component) for component in cc]\n",
    "cc_size.sort(reverse=True)\n",
    "print(cc_size[:10])"
   ]
  },
  {
   "cell_type": "code",
   "execution_count": null,
   "metadata": {},
   "outputs": [],
   "source": [
    "# Look at frequency of component size\n",
    "from collections import Counter\n",
    "cc_freq = dict(Counter(cc_size))\n",
    "cc_freq = sorted(cc_freq.items(), key=lambda x: x[0], reverse=True)\n",
    "print(cc_freq)"
   ]
  },
  {
   "attachments": {},
   "cell_type": "markdown",
   "metadata": {},
   "source": [
    "## Exploring cliques in our graph"
   ]
  },
  {
   "cell_type": "code",
   "execution_count": null,
   "metadata": {},
   "outputs": [],
   "source": [
    "largest_clique = g.largest_cliques()[0]\n",
    "print(len(largest_clique))\n",
    "print(largest_clique)"
   ]
  },
  {
   "cell_type": "code",
   "execution_count": null,
   "metadata": {},
   "outputs": [],
   "source": [
    "clique_actors = g.vs[largest_clique]['actor']\n",
    "print(clique_actors)"
   ]
  },
  {
   "attachments": {},
   "cell_type": "markdown",
   "metadata": {},
   "source": [
    "## Analyzing the Neo4j film projection"
   ]
  },
  {
   "cell_type": "code",
   "execution_count": null,
   "metadata": {},
   "outputs": [],
   "source": [
    "%%writefile cypher/film_match.cql\n",
    "MATCH (f:Film) RETURN count(f)"
   ]
  },
  {
   "cell_type": "code",
   "execution_count": null,
   "metadata": {},
   "outputs": [],
   "source": [
    "%%writefile cypher/has_common_actor_match.cql\n",
    "MATCH (:Film)-[r:HAS_COMMON_ACTORS]->(:Film) RETURN count(r)"
   ]
  },
  {
   "cell_type": "code",
   "execution_count": null,
   "metadata": {},
   "outputs": [],
   "source": [
    "%%writefile cypher/has_comm_act_by_country.cql\n",
    "MATCH (f1:Film)-[:HAS_COMMON_ACTORS]->(f2:Film)\n",
    "WITH f1.country as c1, f2.country as c2\n",
    "WHERE c1 <> c2\n",
    "WITH [c1, c2] as country_pair\n",
    "RETURN country_pair, count(country_pair)\n",
    "ORDER BY count(country_pair) DESC"
   ]
  }
 ],
 "metadata": {
  "kernelspec": {
   "display_name": "graph-book",
   "language": "python",
   "name": "python3"
  },
  "language_info": {
   "codemirror_mode": {
    "name": "ipython",
    "version": 3
   },
   "file_extension": ".py",
   "mimetype": "text/x-python",
   "name": "python",
   "nbconvert_exporter": "python",
   "pygments_lexer": "ipython3",
   "version": "3.8.15"
  },
  "orig_nbformat": 4
 },
 "nbformat": 4,
 "nbformat_minor": 2
}
