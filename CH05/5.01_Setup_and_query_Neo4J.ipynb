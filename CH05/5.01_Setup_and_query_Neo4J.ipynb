{
 "cells": [
  {
   "attachments": {},
   "cell_type": "markdown",
   "metadata": {},
   "source": [
    "# Using Graph Databases"
   ]
  },
  {
   "attachments": {},
   "cell_type": "markdown",
   "metadata": {},
   "source": [
    "To follow along with this notebook you must have already downloaded and registered your version of **Neo4J**. Follow the below steps to install this: \n",
    "\n",
    "1. Download and register **Neo4j**: https://neo4j.com/download-center/#desktop. You will need to complete the registration steps. \n",
    "2. Once this is installed you need to create a new Local DBMS (`Python DB`) and provide a password to access it with (`testpython`).\n",
    "3. Now that you have the application installed and setup, you will need to find the new database we have created `Python DB` and make sure we **START** the service.\n",
    "4. When the database has finished starting up then we need to use *Neo4J Browser* to add a user so we can work with the graph DB. This can be achieved by using `:server user add` in the browser console. \n",
    "5. Upon running the command `:server user add` you will be asked to create a user's username and password. These can be `admin` and `testpython` and we will use the roles drop down and select both `admin` and `PUBLIC`.\n",
    "\n",
    "Once you have completed these steps, then make sure you have installed the supporting packages, by uncommenting the code cell below, and you can begin interacting with your newly created graph database. "
   ]
  },
  {
   "cell_type": "code",
   "execution_count": null,
   "metadata": {},
   "outputs": [],
   "source": [
    "#!pip install -r requirements.txt"
   ]
  },
  {
   "attachments": {},
   "cell_type": "markdown",
   "metadata": {},
   "source": [
    "## Querying Neo4J with Python"
   ]
  },
  {
   "cell_type": "code",
   "execution_count": null,
   "metadata": {},
   "outputs": [],
   "source": [
    "from neo4j import GraphDatabase"
   ]
  },
  {
   "cell_type": "code",
   "execution_count": null,
   "metadata": {},
   "outputs": [],
   "source": [
    "driver = GraphDatabase.driver(uri='bolt://localhost:7687',\n",
    "                              auth=('admin', 'testpython'))"
   ]
  },
  {
   "cell_type": "code",
   "execution_count": null,
   "metadata": {},
   "outputs": [],
   "source": [
    "session = driver.session()"
   ]
  },
  {
   "cell_type": "code",
   "execution_count": null,
   "metadata": {},
   "outputs": [],
   "source": [
    "query = 'CREATE (:Person {name: \"Jeremy\"})-[:FOLLOWS]->(:Person {name:\"Mark\"})'\n",
    "result = session.run(query)\n",
    "driver.close()"
   ]
  },
  {
   "attachments": {},
   "cell_type": "markdown",
   "metadata": {},
   "source": [
    "Once running this, navigate back to Neo4J and head over to the browser and type in `MATCH (n) RETURN n`. This will produce a graph in Neo4J like this:"
   ]
  },
  {
   "attachments": {},
   "cell_type": "markdown",
   "metadata": {},
   "source": [
    "![](fig/Neo4J_graph_A.png)"
   ]
  },
  {
   "attachments": {},
   "cell_type": "markdown",
   "metadata": {},
   "source": [
    "Alternatively, we can write read queries in Python to confirm that our write operation ran as intended. To establish a session, we will use the same code framework as for the previous write query:"
   ]
  },
  {
   "cell_type": "code",
   "execution_count": null,
   "metadata": {},
   "outputs": [],
   "source": [
    "driver = GraphDatabase.driver(uri='bolt://localhost:7687',\n",
    "                              auth=('admin', 'testpython'))\n",
    "session = driver.session()"
   ]
  },
  {
   "cell_type": "code",
   "execution_count": null,
   "metadata": {},
   "outputs": [],
   "source": [
    "node_query = 'MATCH (n:Person) RETURN n'\n",
    "edge_query = 'MATCH ()-[e:FOLLOWS]->() RETURN e'"
   ]
  },
  {
   "cell_type": "code",
   "execution_count": null,
   "metadata": {},
   "outputs": [],
   "source": [
    "node_result = session.run(node_query).data()\n",
    "edge_result = session.run(edge_query).data()\n",
    "driver.close()"
   ]
  },
  {
   "cell_type": "code",
   "execution_count": null,
   "metadata": {},
   "outputs": [],
   "source": [
    "class Neo4jConnect:\n",
    "    def __init__(self, uri, user, password):\n",
    "        self.driver = GraphDatabase.driver(uri, auth=(user, password))\n",
    "        self.user = user\n",
    "        self.uri = uri\n",
    "    def close(self):\n",
    "        self.driver.close()\n",
    "        \n",
    "    def query(self, query):\n",
    "        session = self.driver.session()\n",
    "        result = session.run(query)\n",
    "        return result\n",
    "\n",
    "    def __str__(self):\n",
    "        return f'Connection successful for user: {self.user}.\\nConnected to Neo4J database uri: {self.uri}'"
   ]
  },
  {
   "cell_type": "code",
   "execution_count": null,
   "metadata": {},
   "outputs": [],
   "source": [
    "connection = Neo4jConnect('bolt://localhost:7687', 'admin', 'testpython')\n",
    "print(connection)"
   ]
  },
  {
   "cell_type": "code",
   "execution_count": null,
   "metadata": {},
   "outputs": [],
   "source": [
    "node_cypher = 'MATCH (n:Person) RETURN n' \n",
    "edge_cypher = 'MATCH ()-[e:FOLLOWS]->() RETURN e'"
   ]
  },
  {
   "cell_type": "code",
   "execution_count": null,
   "metadata": {},
   "outputs": [],
   "source": [
    "node_result = connection.query(node_cypher).data()\n",
    "edge_result = connection.query(edge_cypher).data()"
   ]
  },
  {
   "cell_type": "code",
   "execution_count": null,
   "metadata": {},
   "outputs": [],
   "source": [
    "connection.close()\n",
    "print(node_result)"
   ]
  },
  {
   "cell_type": "code",
   "execution_count": null,
   "metadata": {},
   "outputs": [],
   "source": [
    "print(edge_result)"
   ]
  },
  {
   "attachments": {},
   "cell_type": "markdown",
   "metadata": {},
   "source": [
    "## Code for this tutorial"
   ]
  },
  {
   "cell_type": "code",
   "execution_count": null,
   "metadata": {},
   "outputs": [],
   "source": [
    "%%writefile query_neo4j.py\n",
    "\"\"\" \n",
    "Name:       query_neo4j.py\n",
    "Author(s):  Gary Hutson & Matt Jackson on behalf of Packt publishing\n",
    "Date:       03/02/2022\n",
    "Usage:      python query_neo4j.py\n",
    "\n",
    "\"\"\"\n",
    "\n",
    "from neo4j import GraphDatabase\n",
    "driver = GraphDatabase.driver(uri='bolt://localhost:7687',\n",
    "                              auth=('admin', 'testpython'))\n",
    "session = driver.session()\n",
    "# Generate a query\n",
    "query = 'CREATE (:Person {name: \"Jeremy\"})-[:FOLLOWS]->(:Person {name:\"Mark\"})'\n",
    "result = session.run(query)\n",
    "driver.close()\n",
    "\n",
    "#Alternate method\n",
    "driver = GraphDatabase.driver(uri='bolt://localhost:7687',\n",
    "                              auth=('admin', 'testpython'))\n",
    "session = driver.session()\n",
    "node_query = 'MATCH (n:Person) RETURN n'\n",
    "edge_query = 'MATCH ()-[e:FOLLOWS]->() RETURN e'\n",
    "node_result = session.run(node_query).data()\n",
    "edge_result = session.run(edge_query).data()\n",
    "driver.close()\n",
    "\n",
    "# Create class to automate query\n",
    "class Neo4jConnect:\n",
    "    def __init__(self, uri, user, password):\n",
    "        self.driver = GraphDatabase.driver(uri, auth=(user, password))\n",
    "        self.user = user\n",
    "        self.uri = uri\n",
    "    def close(self):\n",
    "        self.driver.close()\n",
    "        \n",
    "    def query(self, query):\n",
    "        session = self.driver.session()\n",
    "        result = session.run(query)\n",
    "        return result\n",
    "\n",
    "    def __str__(self):\n",
    "        return f'Connection successful for user: {self.user}.\\nConnected to Neo4J database uri: {self.uri}'\n",
    "\n",
    "# Use connection\n",
    "connection = Neo4jConnect('bolt://localhost:7687', 'admin', 'testpython')\n",
    "print(connection)\n",
    "\n",
    "# Create the Cypher query\n",
    "node_cypher = 'MATCH (n:Person) RETURN n' \n",
    "edge_cypher = 'MATCH ()-[e:FOLLOWS]->() RETURN e'\n",
    "node_result = connection.query(node_cypher).data()\n",
    "edge_result = connection.query(edge_cypher).data()\n",
    "connection.close()\n",
    "print(node_result)\n",
    "print(edge_result)"
   ]
  }
 ],
 "metadata": {
  "kernelspec": {
   "display_name": "graph-book",
   "language": "python",
   "name": "python3"
  },
  "language_info": {
   "codemirror_mode": {
    "name": "ipython",
    "version": 3
   },
   "file_extension": ".py",
   "mimetype": "text/x-python",
   "name": "python",
   "nbconvert_exporter": "python",
   "pygments_lexer": "ipython3",
   "version": "3.8.15"
  },
  "orig_nbformat": 4,
  "vscode": {
   "interpreter": {
    "hash": "0e962125a6bade716827c7cd07d3b7c9b717838910a5075eb32d8b321480d4bb"
   }
  }
 },
 "nbformat": 4,
 "nbformat_minor": 2
}
