{
 "cells": [
  {
   "attachments": {},
   "cell_type": "markdown",
   "metadata": {},
   "source": [
    "# Storing a Graph in Neo4j"
   ]
  },
  {
   "cell_type": "code",
   "execution_count": null,
   "metadata": {},
   "outputs": [],
   "source": [
    "#!pip install -r requirements.txt"
   ]
  },
  {
   "cell_type": "code",
   "execution_count": null,
   "metadata": {},
   "outputs": [],
   "source": [
    "from graphtastic.database.neo4j import Neo4jConnect "
   ]
  },
  {
   "attachments": {},
   "cell_type": "markdown",
   "metadata": {},
   "source": [
    "## Connecting to Neo4j"
   ]
  },
  {
   "attachments": {},
   "cell_type": "markdown",
   "metadata": {},
   "source": [
    "Please make sure to start the database (**Python DB**) we created in the *5.01_Setup_and_query_Neo4J.ipynb* notebook. Once the service has started, we can connect to our *localhost*."
   ]
  },
  {
   "cell_type": "code",
   "execution_count": null,
   "metadata": {},
   "outputs": [],
   "source": [
    "connection = Neo4jConnect('bolt://localhost:7687', 'admin', 'testpython')\n",
    "print(connection)"
   ]
  },
  {
   "attachments": {},
   "cell_type": "markdown",
   "metadata": {},
   "source": [
    "## Preprocessing data"
   ]
  },
  {
   "cell_type": "code",
   "execution_count": null,
   "metadata": {},
   "outputs": [],
   "source": [
    "import csv\n",
    "\n",
    "with open('./data/reachability_250.txt', 'r') as txt:\n",
    "    reader = csv.reader(txt, delimiter=' ')\n",
    "    edges = [edge for edge in reader][6:]\n",
    "    edges = [[edge[0], edge[1], int(edge[2])*-1] for edge in edges]"
   ]
  },
  {
   "cell_type": "code",
   "execution_count": null,
   "metadata": {},
   "outputs": [],
   "source": [
    "with open('./data/reachability.csv', 'w', newline='') as c:\n",
    "    writer = csv.writer(c)\n",
    "    for edge in edges:\n",
    "        writer.writerow(edge)"
   ]
  },
  {
   "attachments": {},
   "cell_type": "markdown",
   "metadata": {},
   "source": [
    "## Moving nodes, edges and properties to Neo4j"
   ]
  },
  {
   "attachments": {},
   "cell_type": "markdown",
   "metadata": {},
   "source": [
    "Our Cypher scripts will read data from csv files, which on a local installation of Neo4j should be in a specific folder that Neo4j can access. Follow the steps below to get the data into Neo4j:\n",
    "\n",
    "1. In the main Neo4j application window (not the Browser window for the current database), click the ... next to our newly created database. \n",
    "2. From there, choose Open folder, then Import, to open the /import folder in your operating system’s file browser. \n",
    "3. Copy reachability.csv and reachability-meta.csv to this import folder.\n",
    "4. Now that Neo4j can read the files, let’s write some Cypher to access their content. The below need to be run in Neo4J's command line interface:"
   ]
  },
  {
   "cell_type": "code",
   "execution_count": null,
   "metadata": {},
   "outputs": [],
   "source": [
    "%%writefile cypher/read_reachability.cql\n",
    "LOAD CSV WITH HEADERS from 'file:///reachability-meta.csv' as row\n",
    "CREATE (city:City {\n",
    "    node_id: row.node_id,\n",
    "    name: row.name,\n",
    "    population: row.metro_pop,\n",
    "    latitude: row.latitude,\n",
    "    longitude: row.longitude\n",
    "})"
   ]
  },
  {
   "cell_type": "code",
   "execution_count": null,
   "metadata": {},
   "outputs": [],
   "source": [
    "%%writefile cypher/load_reachability.cql\n",
    "LOAD CSV from 'file:///reachability.csv' as row\n",
    "MATCH (from:City {node_id: row[0]})\n",
    "MATCH (to:City {node_id: row[1]})\n",
    "MERGE (from)-[:AIR_TRAVEL {distance: row[2]}]-(to)"
   ]
  },
  {
   "attachments": {},
   "cell_type": "markdown",
   "metadata": {},
   "source": [
    "Now we will use Python to interface with the newly connected data model in Neo4J. "
   ]
  },
  {
   "cell_type": "code",
   "execution_count": null,
   "metadata": {},
   "outputs": [],
   "source": [
    "\n",
    "cypher = 'MATCH (n) RETURN count(n)'\n",
    "result = connection.query(cypher).data()\n",
    "connection.close()\n",
    "print(result)"
   ]
  },
  {
   "cell_type": "code",
   "execution_count": null,
   "metadata": {},
   "outputs": [],
   "source": [
    "edge_test = [57,0]"
   ]
  },
  {
   "cell_type": "code",
   "execution_count": null,
   "metadata": {},
   "outputs": [],
   "source": [
    "cypher = f'MATCH (n:City {{node_id:{edge_test[0]}}})' \\\n",
    "          '-[r:AIR_TRAVEL]->' \\\n",
    "         f'(m:City {{node_id:{edge_test[1]}}}) ' \\\n",
    "          'RETURN n.name, m.name, r.travel_time'\n",
    "print(cypher)"
   ]
  },
  {
   "cell_type": "code",
   "execution_count": null,
   "metadata": {},
   "outputs": [],
   "source": [
    "result = connection.query(cypher).data()\n",
    "print(result)\n"
   ]
  }
 ],
 "metadata": {
  "kernelspec": {
   "display_name": "graph-book",
   "language": "python",
   "name": "python3"
  },
  "language_info": {
   "codemirror_mode": {
    "name": "ipython",
    "version": 3
   },
   "file_extension": ".py",
   "mimetype": "text/x-python",
   "name": "python",
   "nbconvert_exporter": "python",
   "pygments_lexer": "ipython3",
   "version": "3.8.15"
  },
  "orig_nbformat": 4,
  "vscode": {
   "interpreter": {
    "hash": "0e962125a6bade716827c7cd07d3b7c9b717838910a5075eb32d8b321480d4bb"
   }
  }
 },
 "nbformat": 4,
 "nbformat_minor": 2
}
