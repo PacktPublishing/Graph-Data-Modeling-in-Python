{
 "cells": [
  {
   "attachments": {},
   "cell_type": "markdown",
   "metadata": {},
   "source": [
    "# Optimizing travel with Python and Cypher"
   ]
  },
  {
   "cell_type": "code",
   "execution_count": null,
   "metadata": {},
   "outputs": [],
   "source": [
    "#!pip install -r requirements.txt"
   ]
  },
  {
   "cell_type": "code",
   "execution_count": null,
   "metadata": {},
   "outputs": [],
   "source": [
    "from graphtastic.database.neo4j import Neo4jConnect "
   ]
  },
  {
   "attachments": {},
   "cell_type": "markdown",
   "metadata": {},
   "source": [
    "## Connecting to Neo4j"
   ]
  },
  {
   "attachments": {},
   "cell_type": "markdown",
   "metadata": {},
   "source": [
    "Please make sure to start the database (**Python DB**) we created in the *5.01_Setup_and_query_Neo4J.ipynb* notebook. Once the service has started, we can connect to our *localhost*."
   ]
  },
  {
   "cell_type": "code",
   "execution_count": null,
   "metadata": {},
   "outputs": [],
   "source": [
    "connection = Neo4jConnect('bolt://localhost:7687', 'admin', 'testpython')\n",
    "print(connection)"
   ]
  },
  {
   "attachments": {},
   "cell_type": "markdown",
   "metadata": {},
   "source": [
    "## Optimizing travel with Python and Cypher"
   ]
  },
  {
   "cell_type": "code",
   "execution_count": null,
   "metadata": {},
   "outputs": [],
   "source": [
    "cypher = 'MATCH (n) ' \\\n",
    "         'RETURN n.name, n.population ' \\\n",
    "         'ORDER BY n.population ' \\\n",
    "         'DESC LIMIT 1'\n",
    "\n",
    "connection = Neo4jConnect('bolt://localhost:7687', 'admin', 'testpython')\n",
    "result = connection.query(cypher).data()\n",
    "print(result)"
   ]
  },
  {
   "cell_type": "code",
   "execution_count": null,
   "metadata": {},
   "outputs": [],
   "source": [
    "cypher = 'MATCH (n:City {name: \"New York, NY\"}) ' \\\n",
    "         'MATCH (n)-[r:AIR_TRAVEL]->(m) ' \\\n",
    "         'WHERE r.travel_time < 100 ' \\\n",
    "         'RETURN m.name'"
   ]
  },
  {
   "cell_type": "code",
   "execution_count": null,
   "metadata": {},
   "outputs": [],
   "source": [
    "result = connection.query(cypher).data()\n",
    "print(result)\n",
    "print(len(result))\n"
   ]
  },
  {
   "cell_type": "code",
   "execution_count": null,
   "metadata": {},
   "outputs": [],
   "source": [
    "cypher = 'MATCH (n:City {name: \"San Diego, CA\"}) '\\\n",
    "         'MATCH (m:City {name: \"St. Johns, NL\"}) '\\\n",
    "         'MATCH p=(n)-[*..3]->(m) ' \\\n",
    "         'WITH p, [r in relationships(p) | properties(r)] as rels ' \\\n",
    "         'RETURN p, rels'"
   ]
  },
  {
   "cell_type": "code",
   "execution_count": null,
   "metadata": {},
   "outputs": [],
   "source": [
    "result = connection.query(cypher).data()\n",
    "print(result)\n",
    "print(len(result))"
   ]
  },
  {
   "attachments": {},
   "cell_type": "markdown",
   "metadata": {},
   "source": [
    "## Travel recommendations"
   ]
  },
  {
   "cell_type": "code",
   "execution_count": null,
   "metadata": {},
   "outputs": [],
   "source": [
    "paths = [path['p'] for path in result]"
   ]
  },
  {
   "cell_type": "code",
   "execution_count": null,
   "metadata": {},
   "outputs": [],
   "source": [
    "nodes = [node for path in paths for node in path if node != 'AIR_TRAVEL']"
   ]
  },
  {
   "cell_type": "code",
   "execution_count": null,
   "metadata": {},
   "outputs": [],
   "source": [
    "node_attributes = {node['node_id']:node for node in nodes}.values()\n",
    "print(node_attributes)"
   ]
  },
  {
   "cell_type": "code",
   "execution_count": null,
   "metadata": {},
   "outputs": [],
   "source": [
    "node_ids = [node['node_id'] for node in node_attributes]\n",
    "names = [node['name'] for node in node_attributes]\n",
    "populations = [node['population'] for node in node_attributes]\n",
    "latitudes = [node['latitude'] for node in node_attributes]\n",
    "longitudes = [node['longitude'] for node in node_attributes]\n",
    "igraph_ids = {node['node_id']: i for i, node in enumerate(node_attributes)}"
   ]
  },
  {
   "cell_type": "code",
   "execution_count": null,
   "metadata": {},
   "outputs": [],
   "source": [
    "travel_time_paths = [path['rels'] for path in result]\n",
    "print(travel_time_paths)"
   ]
  },
  {
   "cell_type": "code",
   "execution_count": null,
   "metadata": {},
   "outputs": [],
   "source": [
    "edge_list = []\n",
    "edge_attributes = []\n",
    "for path, times in zip(paths, travel_time_paths):\n",
    "    clean_path = [node['node_id'] for node in path if node != 'AIR_TRAVEL']\n",
    "    travel_times = [rel['travel_time'] for rel in times]\n",
    "    for n, time in zip(zip(clean_path, clean_path[1:]), travel_times):\n",
    "        edge_list.append([igraph_ids[n[0]], igraph_ids[n[1]]])\n",
    "        edge_attributes.append(time)\n"
   ]
  },
  {
   "attachments": {},
   "cell_type": "markdown",
   "metadata": {},
   "source": [
    "Build the graph"
   ]
  },
  {
   "cell_type": "code",
   "execution_count": null,
   "metadata": {},
   "outputs": [],
   "source": [
    "import igraph\n",
    "\n",
    "g = igraph.Graph(directed=True)\n",
    "g.add_vertices(len(node_ids))\n",
    "g.vs['node_id'] = node_ids\n",
    "g.vs['name'] = names\n",
    "g.vs['population'] = populations\n",
    "g.vs['latitude'] = latitudes\n",
    "g.vs['longitude'] = longitudes\n",
    "g.add_edges(edge_list)\n",
    "g.es['travel_time'] = edge_attributes"
   ]
  },
  {
   "cell_type": "code",
   "execution_count": null,
   "metadata": {},
   "outputs": [],
   "source": [
    "print([[g.vs[edge.source]['node_id'], g.vs[edge.target]['node_id'], edge['travel_time']] for edge in g.es])"
   ]
  },
  {
   "attachments": {},
   "cell_type": "markdown",
   "metadata": {},
   "source": [
    "## Djikstra algorithm"
   ]
  },
  {
   "cell_type": "code",
   "execution_count": null,
   "metadata": {},
   "outputs": [],
   "source": [
    "source = g.vs.select(name_eq='San Diego, CA')\n",
    "target = g.vs.select(name_eq='St. Johns, NL')"
   ]
  },
  {
   "attachments": {},
   "cell_type": "markdown",
   "metadata": {},
   "source": [
    "![](fig/Figure%205.3.png)"
   ]
  },
  {
   "cell_type": "code",
   "execution_count": null,
   "metadata": {},
   "outputs": [],
   "source": [
    "shortest_path = g.get_shortest_paths(source[0], target[0], weights='travel_time')\n",
    "print(shortest_path)\n",
    "shortest_path = [g.vs[node]['name'] for node in shortest_path]\n",
    "print(shortest_path)"
   ]
  },
  {
   "cell_type": "code",
   "execution_count": null,
   "metadata": {},
   "outputs": [],
   "source": [
    "short_path_rels = g.get_shortest_paths(source[0], target[0], weights='travel_time', output='epath')\n",
    "print(short_path_rels)\n",
    "short_path_distances = [g.es[edge]['travel_time'] for edge in short_path_rels]\n",
    "print(short_path_distances)\n",
    "shortest_travel_time = sum(short_path_distances[0])"
   ]
  },
  {
   "cell_type": "code",
   "execution_count": null,
   "metadata": {},
   "outputs": [],
   "source": [
    "print(shortest_travel_time)"
   ]
  },
  {
   "cell_type": "code",
   "execution_count": null,
   "metadata": {},
   "outputs": [],
   "source": [
    "edges = [[g.vs[edge.source]['node_id'], g.vs[edge.target]['node_id']] for edge in g.es]\n",
    "latitudes = {node['node_id']: node['latitude'] for node in g.vs}\n",
    "longitudes = {node['node_id']: node['longitude'] for node in g.vs}"
   ]
  },
  {
   "cell_type": "code",
   "execution_count": null,
   "metadata": {},
   "outputs": [],
   "source": [
    "from geopy.distance import geodesic"
   ]
  },
  {
   "cell_type": "code",
   "execution_count": null,
   "metadata": {},
   "outputs": [],
   "source": [
    "def find_distances(edges, latitudes, longitudes):\n",
    "    distances = []\n",
    "    for n, m in edges:\n",
    "        loc_1 = (latitudes[n], longitudes[n])\n",
    "        loc_2 = (latitudes[m], longitudes[m])\n",
    "        distance = geodesic(loc_1, loc_2).km\n",
    "        distances.append(int(distance))\n",
    "    return distances"
   ]
  },
  {
   "cell_type": "code",
   "execution_count": null,
   "metadata": {},
   "outputs": [],
   "source": [
    "distances = find_distances(edges, latitudes, longitudes)\n",
    "g.es['distance'] = distances"
   ]
  },
  {
   "attachments": {},
   "cell_type": "markdown",
   "metadata": {},
   "source": [
    "## Shortest paths with distances"
   ]
  },
  {
   "cell_type": "code",
   "execution_count": null,
   "metadata": {},
   "outputs": [],
   "source": [
    "source = g.vs.select(name_eq='San Diego, CA')\n",
    "target = g.vs.select(name_eq='St. Johns, NL')"
   ]
  },
  {
   "cell_type": "code",
   "execution_count": null,
   "metadata": {},
   "outputs": [],
   "source": [
    "shortest_path = g.get_shortest_paths(source[0], target[0], weights='distance')\n",
    "print(shortest_path)\n",
    "shortest_path = [g.vs[node]['name'] for node in shortest_path]\n",
    "print(shortest_path)"
   ]
  },
  {
   "cell_type": "code",
   "execution_count": null,
   "metadata": {},
   "outputs": [],
   "source": [
    "short_path_rels = g.get_shortest_paths(source[0], target[0], weights='distance', output='epath')\n",
    "print(short_path_rels)\n",
    "short_path_distances = [g.es[edge]['distance'] for edge in short_path_rels]\n",
    "print(short_path_distances)\n",
    "shortest_travel_time = sum(short_path_distances[0])\n",
    "print(shortest_travel_time)"
   ]
  },
  {
   "attachments": {},
   "cell_type": "markdown",
   "metadata": {},
   "source": [
    "## Calculate physical distance and write to Neo4J"
   ]
  },
  {
   "cell_type": "code",
   "execution_count": null,
   "metadata": {},
   "outputs": [],
   "source": [
    "edges_cypher = 'MATCH (n)-[:AIR_TRAVEL]->(m) ' \\\n",
    "               'RETURN n.node_id, m.node_id'\n",
    "\n",
    "nodes_cypher = 'MATCH (n) ' \\\n",
    "               'RETURN n.node_id, n.latitude, n.longitude'"
   ]
  },
  {
   "cell_type": "code",
   "execution_count": null,
   "metadata": {},
   "outputs": [],
   "source": [
    "connection = Neo4jConnect('bolt://localhost:7687', 'admin', 'testpython')\n",
    "edges = connection.query(edges_cypher).data()\n",
    "lat_longs = connection.query(nodes_cypher).data()\n",
    "connection.close()"
   ]
  },
  {
   "cell_type": "code",
   "execution_count": null,
   "metadata": {},
   "outputs": [],
   "source": [
    "edges = [[edge['n.node_id'], edge['m.node_id']] for edge in edges]\n",
    "latitudes = {node['n.node_id']: node['n.latitude'] for node in lat_longs}\n",
    "longitudes = {node['n.node_id']: node['n.longitude'] for node in lat_longs}"
   ]
  },
  {
   "cell_type": "code",
   "execution_count": null,
   "metadata": {},
   "outputs": [],
   "source": [
    "distances = find_distances(edges, latitudes, longitudes)\n",
    "distances = list(zip(edges, distances))\n",
    "distances = [[edge[0], edge[1], distance] for edge, distance in distances]\n",
    "print(distances)"
   ]
  },
  {
   "cell_type": "code",
   "execution_count": null,
   "metadata": {},
   "outputs": [],
   "source": [
    "import csv\n",
    "with open('./data/distances.csv', 'w', newline='') as c:\n",
    "    writer = csv.writer(c)\n",
    "    for edge in distances:\n",
    "        writer.writerow(edge)"
   ]
  }
 ],
 "metadata": {
  "kernelspec": {
   "display_name": "graph-book",
   "language": "python",
   "name": "python3"
  },
  "language_info": {
   "codemirror_mode": {
    "name": "ipython",
    "version": 3
   },
   "file_extension": ".py",
   "mimetype": "text/x-python",
   "name": "python",
   "nbconvert_exporter": "python",
   "pygments_lexer": "ipython3",
   "version": "3.8.15"
  },
  "orig_nbformat": 4,
  "vscode": {
   "interpreter": {
    "hash": "0e962125a6bade716827c7cd07d3b7c9b717838910a5075eb32d8b321480d4bb"
   }
  }
 },
 "nbformat": 4,
 "nbformat_minor": 2
}
