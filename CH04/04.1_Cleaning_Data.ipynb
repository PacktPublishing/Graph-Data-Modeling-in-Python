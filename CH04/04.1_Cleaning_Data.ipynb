{
 "cells": [
  {
   "attachments": {},
   "cell_type": "markdown",
   "metadata": {},
   "source": [
    "# Cleaning data for Knowledge Graph"
   ]
  },
  {
   "attachments": {},
   "cell_type": "markdown",
   "metadata": {},
   "source": [
    "Make sure you navigate to the link:https://s3-us-west-2.amazonaws.com/ai2-s2-scispacy/releases/v0.5.1/en_core_sci_sm-0.5.1.tar.gz to download the *en_core_sci_sm* module, as we will need this for the pip install process in the next step."
   ]
  },
  {
   "cell_type": "code",
   "execution_count": 1,
   "metadata": {},
   "outputs": [],
   "source": [
    "#Uncomment to install workbook requirements\n",
    "#!pip install -r requirements.txt\n",
    "#!pip install en_core_sci_sm-0.5.1.tar.gz"
   ]
  },
  {
   "cell_type": "code",
   "execution_count": 1,
   "metadata": {},
   "outputs": [],
   "source": [
    "import csv\n",
    "with open('./data/20k_abstracts.txt') as c:\n",
    "\treader = csv.reader(c, delimiter='\\t')\n",
    "\tdata = [line for line in reader if line != []]"
   ]
  },
  {
   "cell_type": "code",
   "execution_count": 2,
   "metadata": {},
   "outputs": [],
   "source": [
    "clean_data = []\n",
    "abstract = ''\n",
    "for line in data[1:]:\n",
    "    if len(line) == 1:\n",
    "        clean_data.append(abstract)\n",
    "        abstract = ''\n",
    "    else:\n",
    "        abstract += ' ' + line[1]\n"
   ]
  },
  {
   "cell_type": "code",
   "execution_count": 4,
   "metadata": {},
   "outputs": [],
   "source": [
    "with open('./data/20k_abstracts_clean.csv', 'w', newline='') as d:\n",
    "\twriter = csv.writer(d)\n",
    "\tfor i, line in enumerate(clean_data):\n",
    "    \t\twriter.writerow([i, line])"
   ]
  },
  {
   "attachments": {},
   "cell_type": "markdown",
   "metadata": {},
   "source": [
    "## Code from this section"
   ]
  },
  {
   "cell_type": "code",
   "execution_count": 2,
   "metadata": {},
   "outputs": [
    {
     "name": "stdout",
     "output_type": "stream",
     "text": [
      "Writing cleaning_data_know_graph.py\n"
     ]
    }
   ],
   "source": [
    "%%writefile cleaning_data_know_graph.py\n",
    "\"\"\" \n",
    "Name:       cleaning_data_know_graph.py\n",
    "Author(s):  Gary Hutson & Matt Jackson on behalf of Packt publishing\n",
    "Date:       03/02/2022\n",
    "Usage:      python cleaning_data_know_graph.py\n",
    "\"\"\"\n",
    "import csv\n",
    "# Import target file\n",
    "with open('./data/20k_abstracts.txt') as c:\n",
    "\treader = csv.reader(c, delimiter='\\t')\n",
    "\tdata = [line for line in reader if line != []]\n",
    "\n",
    "# Clean target file\n",
    "clean_data = []\n",
    "abstract = ''\n",
    "for line in data[1:]:\n",
    "    if len(line) == 1:\n",
    "        clean_data.append(abstract)\n",
    "        abstract = ''\n",
    "    else:\n",
    "        abstract += ' ' + line[1]\n",
    "\n",
    "# Load back in cleaned file\n",
    "with open('./data/20k_abstracts_clean.csv', 'w', newline='') as d:\n",
    "\twriter = csv.writer(d)\n",
    "\tfor i, line in enumerate(clean_data):\n",
    "    \t\twriter.writerow([i, line])"
   ]
  }
 ],
 "metadata": {
  "kernelspec": {
   "display_name": "graph-book",
   "language": "python",
   "name": "python3"
  },
  "language_info": {
   "codemirror_mode": {
    "name": "ipython",
    "version": 3
   },
   "file_extension": ".py",
   "mimetype": "text/x-python",
   "name": "python",
   "nbconvert_exporter": "python",
   "pygments_lexer": "ipython3",
   "version": "3.8.15"
  },
  "orig_nbformat": 4,
  "vscode": {
   "interpreter": {
    "hash": "0e962125a6bade716827c7cd07d3b7c9b717838910a5075eb32d8b321480d4bb"
   }
  }
 },
 "nbformat": 4,
 "nbformat_minor": 2
}
