{
 "cells": [
  {
   "attachments": {},
   "cell_type": "markdown",
   "metadata": {},
   "source": [
    "# MySQL Setup"
   ]
  },
  {
   "attachments": {},
   "cell_type": "markdown",
   "metadata": {},
   "source": [
    "This will take you through the steps to set up your MySQL instance. "
   ]
  },
  {
   "cell_type": "code",
   "execution_count": null,
   "metadata": {},
   "outputs": [],
   "source": [
    "# Uncomment to install packages\n",
    "# !pip install -r requirements.txt"
   ]
  },
  {
   "attachments": {},
   "cell_type": "markdown",
   "metadata": {},
   "source": [
    "1. Download  https://downloads.mysql.com/archives/installer/ version MySQL 5.7.39"
   ]
  },
  {
   "attachments": {},
   "cell_type": "markdown",
   "metadata": {},
   "source": [
    "2. Next head over to your terminal and use the below command to change directory to the relevant location where your MySQL server instance will be stored e.g. C:/Program Files/MySQL/MySQLServer 5.7/bin."
   ]
  },
  {
   "cell_type": "code",
   "execution_count": null,
   "metadata": {},
   "outputs": [],
   "source": [
    "my_loc = \"C:/Program Files/MySQL/MySQL Server 5.7/bin\"\n",
    "%cd $my_loc"
   ]
  },
  {
   "attachments": {},
   "cell_type": "markdown",
   "metadata": {},
   "source": [
    "3. Head over to your command prompt and run `mysql -u root -p`"
   ]
  },
  {
   "attachments": {},
   "cell_type": "markdown",
   "metadata": {},
   "source": [
    "4. Your MySQL instance will ask for a password. Use the password you created in the setup section."
   ]
  },
  {
   "attachments": {},
   "cell_type": "markdown",
   "metadata": {},
   "source": [
    "5. In command prompt use this command to create your database `CREATE DATABASE steam_data;`. Tip - to look at the databases created in MySQL use `SHOW_DATABASES`"
   ]
  },
  {
   "attachments": {},
   "cell_type": "markdown",
   "metadata": {},
   "source": [
    "6. Get the data from the file in the data folder and copy over *steam_play.csv* and *steam_purchase.csv* to the Uploads folder in the MySQL Server root e.g. **C:/ProgramData/MySQL/MySQL Server 5.7/Uploads**. This needs to be done before using the `CREATE TABLE` commands and then using the `LOAD DATA INFILE` commands in step 7."
   ]
  },
  {
   "attachments": {},
   "cell_type": "markdown",
   "metadata": {},
   "source": [
    "7. Use the below statements to create the relevant tables and fill with the data we copied into ProgramData in the database:"
   ]
  },
  {
   "cell_type": "code",
   "execution_count": null,
   "metadata": {},
   "outputs": [],
   "source": [
    "%%writefile sql/create_table_and_load_data.sql\n",
    "USE steam_data;\n",
    "CREATE TABLE steam_play (id VARCHAR(100), game_name VARCHAR(255), type VARCHAR(10), hours FLOAT(10, 1), misc_column INT);\n",
    "CREATE TABLE steam_purchase (id VARCHAR(100), game_name VARCHAR(255), type VARCHAR(10), game_purchased_flag FLOAT(2, 1), misc_column INT);\n",
    "/* Load data in */\n",
    "LOAD DATA INFILE 'C:/ProgramData/MySQL/MySQL Server 5.7/Uploads/steam_play.csv' INTO TABLE steam_play FIELDS TERMINATED BY ',' OPTIONALLY ENCLOSED BY '\\\"' LINES TERMINATED BY '\\r\\n';\n",
    "LOAD DATA INFILE 'C:/ProgramData/MySQL/MySQL Server 5.7/Uploads/steam_purchase.csv' INTO TABLE steam_purchase FIELDS TERMINATED BY ',' OPTIONALLY ENCLOSED BY '\\\"' LINES TERMINATED BY '\\r\\n';"
   ]
  },
  {
   "attachments": {},
   "cell_type": "markdown",
   "metadata": {},
   "source": [
    "Once this has been successfully done, then we are on to building our recommendation system in the next step. "
   ]
  }
 ],
 "metadata": {
  "kernelspec": {
   "display_name": "graphing",
   "language": "python",
   "name": "python3"
  },
  "language_info": {
   "codemirror_mode": {
    "name": "ipython",
    "version": 3
   },
   "file_extension": ".py",
   "mimetype": "text/x-python",
   "name": "python",
   "nbconvert_exporter": "python",
   "pygments_lexer": "ipython3",
   "version": "3.8.15"
  },
  "orig_nbformat": 4,
  "vscode": {
   "interpreter": {
    "hash": "5d9b0614ec51c39e327607c40a9be1c9047c0f09cdef2805cdfabd8ef643dc92"
   }
  }
 },
 "nbformat": 4,
 "nbformat_minor": 2
}
