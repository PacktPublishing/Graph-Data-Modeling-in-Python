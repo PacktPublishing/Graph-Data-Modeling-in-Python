{
 "cells": [
  {
   "attachments": {},
   "cell_type": "markdown",
   "metadata": {},
   "source": [
    "# Our recommendation system"
   ]
  },
  {
   "cell_type": "code",
   "execution_count": null,
   "metadata": {},
   "outputs": [],
   "source": [
    "# Uncomment to install packages\n",
    "# !pip install -r requirements.txt"
   ]
  },
  {
   "attachments": {},
   "cell_type": "markdown",
   "metadata": {},
   "source": [
    "## Generic MySQL to igraph methods"
   ]
  },
  {
   "cell_type": "code",
   "execution_count": null,
   "metadata": {},
   "outputs": [],
   "source": [
    "PASSWORD = '<your_MYSQL_instance_password>'\n",
    "import mysql.connector\n",
    "\n",
    "connection = mysql.connector.connect(\n",
    "  host=\"localhost\",\n",
    "  user=\"root\",\n",
    "  passwd=PASSWORD,\n",
    "  database=\"steam_data\")"
   ]
  },
  {
   "cell_type": "code",
   "execution_count": null,
   "metadata": {},
   "outputs": [],
   "source": [
    "# Uses the MySQL function we created in the previous step\n",
    "from graphtastic.database.mysql import query_mysql"
   ]
  },
  {
   "attachments": {},
   "cell_type": "markdown",
   "metadata": {},
   "source": [
    "## Custom methods"
   ]
  },
  {
   "cell_type": "code",
   "execution_count": null,
   "metadata": {},
   "outputs": [],
   "source": [
    "%%writefile graphtastic/igraph/helper.py\n",
    "def create_igraph_ids(nodes, from_index=0):\n",
    "\tigraph_ids = {internal_id: igraph_id for igraph_id, internal_id\n",
    "              \tin enumerate(nodes, from_index)}\n",
    "\treturn igraph_ids\n"
   ]
  },
  {
   "cell_type": "code",
   "execution_count": null,
   "metadata": {},
   "outputs": [],
   "source": [
    "from graphtastic.igraph.helper import create_igraph_ids"
   ]
  },
  {
   "cell_type": "code",
   "execution_count": null,
   "metadata": {},
   "outputs": [],
   "source": [
    "%%writefile graphtastic/database/igraph.py\n",
    "import igraph as ig\n",
    "from graphtastic.database.mysql import query_mysql\n",
    "from graphtastic.igraph.helper import create_igraph_ids\n",
    "\n",
    "def mysql_to_graph(table, source, target, weights, password):\n",
    "    sql_query = f'SELECT {source}, {target}, {weights} FROM {table}'\n",
    "    data = query_mysql(sql_query, password=password)\n",
    "    source_nodes = sorted(list(set([source for source, _, _ in data])))\n",
    "    target_nodes = sorted(list(set([target for _, target, _ in data])))\n",
    "    source_igraph_ids = create_igraph_ids(source_nodes)\n",
    "    target_igraph_ids = create_igraph_ids(target_nodes, len(source_igraph_ids))\n",
    "    edges = [(source_igraph_ids[source], target_igraph_ids[target])\n",
    "         \tfor source, target, _ in data]\n",
    "    weights = [weight for _, _, weight in data]\n",
    "    g = ig.Graph(directed=True)\n",
    "    g.add_vertices(len(source_nodes + target_nodes))\n",
    "    g.vs['internal_id'] = list(source_igraph_ids.keys()) + list(target_igraph_ids.keys())\n",
    "    g.vs['type'] = ['source' for _ in source_nodes] + ['target' for _ in target_nodes]\n",
    "    g.add_edges(edges)\n",
    "    g.es['weight'] = weights\n",
    "    return g"
   ]
  },
  {
   "cell_type": "code",
   "execution_count": null,
   "metadata": {},
   "outputs": [],
   "source": [
    "from graphtastic.database.igraph import mysql_to_graph"
   ]
  },
  {
   "cell_type": "code",
   "execution_count": null,
   "metadata": {},
   "outputs": [],
   "source": [
    "def prune_graph(g, min_hours):\n",
    "\tedges_to_remove = g.es.select(weight_lt=min_hours)\n",
    "\tg.delete_edges(edges_to_remove)\n",
    "\treturn g"
   ]
  },
  {
   "cell_type": "code",
   "execution_count": null,
   "metadata": {},
   "outputs": [],
   "source": [
    "def make_recommendations(g, user, min_hours):\n",
    "    user_node = g.vs.select(internal_id_eq=user)\n",
    "    user_node = user_node[0].index\n",
    "    g = prune_graph(g, min_hours)\n",
    "    other_user_nodes = g.vs.select(type_eq='source')\n",
    "    pairs = [[user_node, other_user.index] for other_user in other_user_nodes if other_user.index != user_node]\n",
    "    similarities = g.similarity_jaccard(pairs=pairs, mode='out')\n",
    "    node_similarity = [[pair[1], similarity] for pair, similarity in zip(pairs, similarities)]\n",
    "    node_similarity = sorted(node_similarity, key=lambda x: x[1], reverse=True)\n",
    "    most_similar_node = node_similarity[0][0]\n",
    "    game_recommendations = g.vs[g.neighbors(most_similar_node)]['internal_id']\n",
    "    owned_games = g.vs[g.neighbors(user_node)]['internal_id']\n",
    "    new_games = [game for game in game_recommendations if game not in owned_games]\n",
    "    return new_games"
   ]
  },
  {
   "cell_type": "code",
   "execution_count": null,
   "metadata": {},
   "outputs": [],
   "source": [
    "g = mysql_to_graph('steam_play', 'id', 'game_name', 'hours', password=PASSWORD)\n",
    "recommendations = make_recommendations(g, '87907200', min_hours=0.5)\n",
    "print(recommendations)"
   ]
  }
 ],
 "metadata": {
  "kernelspec": {
   "display_name": "graphing",
   "language": "python",
   "name": "python3"
  },
  "language_info": {
   "codemirror_mode": {
    "name": "ipython",
    "version": 3
   },
   "file_extension": ".py",
   "mimetype": "text/x-python",
   "name": "python",
   "nbconvert_exporter": "python",
   "pygments_lexer": "ipython3",
   "version": "3.8.15 (default, Nov 24 2022, 14:38:14) [MSC v.1916 64 bit (AMD64)]"
  },
  "orig_nbformat": 4,
  "vscode": {
   "interpreter": {
    "hash": "5d9b0614ec51c39e327607c40a9be1c9047c0f09cdef2805cdfabd8ef643dc92"
   }
  }
 },
 "nbformat": 4,
 "nbformat_minor": 2
}
