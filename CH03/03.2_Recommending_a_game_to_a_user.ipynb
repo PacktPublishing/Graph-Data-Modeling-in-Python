{
 "cells": [
  {
   "attachments": {},
   "cell_type": "markdown",
   "metadata": {},
   "source": [
    "# Recommending a game to a user"
   ]
  },
  {
   "attachments": {},
   "cell_type": "markdown",
   "metadata": {},
   "source": [
    "The steps below will take you through how to build your recommendation system. Before attempting this, please make sure you have followed the 03_01_MySQL_Setup.ipynb steps. "
   ]
  },
  {
   "cell_type": "code",
   "execution_count": null,
   "metadata": {},
   "outputs": [],
   "source": [
    "# Uncomment to install packages\n",
    "# !pip install -r requirements.txt"
   ]
  },
  {
   "attachments": {},
   "cell_type": "markdown",
   "metadata": {},
   "source": [
    "## Querying MySQL in Python"
   ]
  },
  {
   "cell_type": "code",
   "execution_count": null,
   "metadata": {},
   "outputs": [],
   "source": [
    "PASSWORD = '<your_MYSQL_instance_password>'\n",
    "import mysql.connector\n",
    "\n",
    "connection = mysql.connector.connect(\n",
    "  host=\"localhost\",\n",
    "  user=\"root\",\n",
    "  passwd=PASSWORD,\n",
    "  database=\"steam_data\")"
   ]
  },
  {
   "cell_type": "code",
   "execution_count": null,
   "metadata": {},
   "outputs": [],
   "source": [
    "sql = 'SELECT count(*) FROM steam_purchase;'\n",
    "print(sql)"
   ]
  },
  {
   "cell_type": "code",
   "execution_count": null,
   "metadata": {},
   "outputs": [],
   "source": [
    "cursor = connection.cursor()\n",
    "cursor.execute(sql)\n",
    "result = cursor.fetchall()\n",
    "print(result)\n",
    "connection.close()"
   ]
  },
  {
   "attachments": {},
   "cell_type": "markdown",
   "metadata": {},
   "source": [
    "## Method for querying"
   ]
  },
  {
   "cell_type": "code",
   "execution_count": null,
   "metadata": {},
   "outputs": [],
   "source": [
    "%%writefile graphtastic/database/mysql.py\n",
    "import mysql.connector\n",
    "def query_mysql(query, password, host='localhost', user='root',database='steam_data'):\n",
    "    ''''\n",
    "    Query a MySQL database instance\n",
    " \n",
    "    :param query: a SQL query to run against the MySQL database\n",
    "    :param password: the MySQL instance password when setting up the solution\n",
    "    :param host: the host (default=localhost)\n",
    "    :param user: the user (default=root) for all the MySQL priviledges\n",
    "    :param database: defaults to `steam_data` but this could be any database of choosing\n",
    "    :return: SQL query results\n",
    "    '''\n",
    "    connection = mysql.connector.connect(\n",
    "    host=host,\n",
    "    user=user,\n",
    "    passwd=password,\n",
    "    database=database\n",
    "    )\n",
    "    cursor = connection.cursor()\n",
    "    cursor.execute(query)\n",
    "    result = cursor.fetchall()\n",
    "    connection.close()\n",
    "    return result"
   ]
  },
  {
   "cell_type": "code",
   "execution_count": null,
   "metadata": {},
   "outputs": [],
   "source": [
    "from graphtastic.database.mysql import query_mysql"
   ]
  },
  {
   "cell_type": "code",
   "execution_count": null,
   "metadata": {},
   "outputs": [],
   "source": [
    "result = query_mysql('SELECT count(*) FROM steam_purchase;',\n",
    "                    password=PASSWORD)\n",
    "print(result)"
   ]
  },
  {
   "attachments": {},
   "cell_type": "markdown",
   "metadata": {},
   "source": [
    "## Examing the data"
   ]
  },
  {
   "cell_type": "code",
   "execution_count": null,
   "metadata": {},
   "outputs": [],
   "source": [
    "result = query_mysql('SELECT * FROM steam_play LIMIT 4;', password=PASSWORD)\n",
    "for row in result:\n",
    "\tprint(row)"
   ]
  },
  {
   "cell_type": "code",
   "execution_count": null,
   "metadata": {},
   "outputs": [],
   "source": [
    "purchase_result = query_mysql('SELECT * FROM steam_purchase LIMIT 4;', password=PASSWORD)\n",
    "for row in purchase_result:\n",
    "\tprint(row)"
   ]
  },
  {
   "attachments": {},
   "cell_type": "markdown",
   "metadata": {},
   "source": [
    "## Path based analytics in tabular data"
   ]
  },
  {
   "cell_type": "code",
   "execution_count": null,
   "metadata": {},
   "outputs": [],
   "source": [
    "\n",
    "result = query_mysql('SELECT game_name from steam_purchase WHERE id = \"151603712\";', password=PASSWORD)\n",
    "print(result[:10])\n",
    "print(len(result))\n"
   ]
  },
  {
   "cell_type": "code",
   "execution_count": null,
   "metadata": {},
   "outputs": [],
   "source": [
    "games = ['\"' + game[0] + '\"' for game in result]\n",
    "games_string = ','.join(games)\n",
    "print(games_string)"
   ]
  },
  {
   "cell_type": "code",
   "execution_count": null,
   "metadata": {},
   "outputs": [],
   "source": [
    "query_2 = f'SELECT id from steam_purchase WHERE game_name ' \\\n",
    "      \tf'IN ({games_string}) AND id != \"151603712\";'\n",
    "result_2 = query_mysql(query_2, password=PASSWORD)\n",
    "users = [user[0] for user in result_2]\n",
    "print(users[:10])\n",
    "print(len(users))\n"
   ]
  },
  {
   "cell_type": "code",
   "execution_count": null,
   "metadata": {},
   "outputs": [],
   "source": [
    "users = list(set(users))\n",
    "print(users[:10])\n",
    "print(len(users))\n"
   ]
  },
  {
   "cell_type": "code",
   "execution_count": null,
   "metadata": {},
   "outputs": [],
   "source": [
    "users = ['\"' + user + '\"' for user in users]\n",
    "users_string = ','.join(users)\n",
    "query_3 = f'SELECT game_name from steam_purchase WHERE id IN ({users_string}) ' \\\n",
    "      \tf'AND game_name NOT IN ({games_string});'\n",
    " \n",
    "result_3 = query_mysql(query_3, password=PASSWORD)\n",
    "recommended_games = [game[0] for game in result_3]\n",
    "print(recommended_games[:10])\n"
   ]
  },
  {
   "cell_type": "code",
   "execution_count": null,
   "metadata": {},
   "outputs": [],
   "source": [
    "from collections import Counter\n",
    "game_frequency = Counter(recommended_games)\n",
    "print(game_frequency)"
   ]
  }
 ],
 "metadata": {
  "kernelspec": {
   "display_name": "youtube",
   "language": "python",
   "name": "python3"
  },
  "language_info": {
   "codemirror_mode": {
    "name": "ipython",
    "version": 3
   },
   "file_extension": ".py",
   "mimetype": "text/x-python",
   "name": "python",
   "nbconvert_exporter": "python",
   "pygments_lexer": "ipython3",
   "version": "3.8.13 (default, Oct 19 2022, 22:38:03) [MSC v.1916 64 bit (AMD64)]"
  },
  "orig_nbformat": 4,
  "vscode": {
   "interpreter": {
    "hash": "d0ee7b56d6d92848927ab980c783075dd1f6b307696a9737c1bc5b45bc0a0a73"
   }
  }
 },
 "nbformat": 4,
 "nbformat_minor": 2
}
